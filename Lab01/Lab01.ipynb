{
 "cells": [
  {
   "metadata": {},
   "cell_type": "raw",
   "source": [
    "---\n",
    "title: \"Lab 1: Bagging and Stacking\"\n",
    "author: \"Isabella McCarty\"\n",
    "format:\n",
    "  html:\n",
    "    toc: true\n",
    "    code-fold: true\n",
    "    theme: pulse\n",
    "    code-line-numbers: true\n",
    "    code-tools: true\n",
    "    self-contained: true\n",
    "execute:\n",
    "  message: false\n",
    "  warning: false\n",
    "---"
   ],
   "id": "7c34d684f3a1ddc1"
  },
  {
   "metadata": {},
   "cell_type": "markdown",
   "source": [
    "## Instructions\n",
    "\n",
    "In this lab you'll be doing a bit more of a comprehensive analysis. Despite coming from Kaggle, this will not be a competition. Check out the data source and context here:\n",
    "\n",
    "https://www.kaggle.com/datasets/riinuanslan/sleep-data-from-fitbit-trackerLinks to an external site.\n",
    "\n",
    "It's a relatively simple dataset, but your goal is this: \n",
    "\n",
    "Can we predict Sleep Score (posted by the FitBit app) using the other metrics in the dataset? In other words, is there a formula here that the FitBit app uses to compute Sleep Score that we can reverse-engineer?\n",
    "Two constraints for this assignment:\n",
    "\n",
    "1. Your modeling efforts must involve bagging and stacking in some way. Otherwise, you may try whatever you like.\n",
    "\n",
    "2. You are allowed, even encouraged, to compute and/or gather additional features to use as explanatory variables in your model. For example, you might create a variable for the time they went to sleep (as a measure of how \"early\" they went to bed, or not). There are multiple datasets and you should use all of them, which means you may use the corresponding month for the dataset as a variable as well (or anything related to it).\n",
    "\n",
    "Your submission should be an HTML or .ipynb file of all of your work."
   ],
   "id": "ff3e337596c5b1c5"
  },
  {
   "metadata": {},
   "cell_type": "markdown",
   "source": [
    "## Data Cleaning and Preparation\n",
    "\n",
    "After some quick examination, I noticed a few typos that needed to be fixed. "
   ],
   "id": "70306471ff0b5d25"
  },
  {
   "metadata": {
    "ExecuteTime": {
     "end_time": "2025-04-15T03:17:05.769315Z",
     "start_time": "2025-04-15T03:17:05.764913Z"
    }
   },
   "cell_type": "code",
   "source": "import pandas as pd",
   "id": "3d1bffca78e4636e",
   "outputs": [],
   "execution_count": 449
  },
  {
   "metadata": {
    "ExecuteTime": {
     "end_time": "2025-04-15T03:17:05.809908Z",
     "start_time": "2025-04-15T03:17:05.791328Z"
    }
   },
   "cell_type": "code",
   "source": [
    "# File paths\n",
    "file_paths = [\n",
    "    \"Data/November Sleep Data - Sheet1.csv\",\n",
    "    \"Data/December Sleep data - Sheet1.csv\",\n",
    "    \"Data/January sleep data - Sheet1.csv\",\n",
    "    \"Data/February sleep data - Sheet1 (1).csv\",\n",
    "    \"Data/March sleep data - Sheet1.csv\",\n",
    "    \"Data/April sleep data - Sheet1.csv\"\n",
    "]\n",
    "\n",
    "# Function to clean each file\n",
    "def clean_sleep_df(file_path, month_name):\n",
    "    df = pd.read_csv(file_path)\n",
    "\n",
    "    # Drop first row if mostly empty\n",
    "    if df.iloc[0].isnull().sum() > len(df.columns) // 2 or (df.iloc[0] == df.columns).sum() > len(df.columns) // 2:\n",
    "        df = df.iloc[1:]\n",
    "\n",
    "    # Standardize column names\n",
    "    df.columns = df.columns.str.replace(month_name.upper(), 'Day of Week', regex=False)\n",
    "    df.columns = df.columns.str.strip().str.upper()\n",
    "\n",
    "    # Rename if columns exist\n",
    "    col_renames = {\n",
    "        'SLEEP SQORE': 'SLEEP SCORE',\n",
    "        'HEART RATE UNDER RESTING': 'HEART RATE BELOW RESTING',\n",
    "        'HEARTRATE BELOW RESTING': 'HEART RATE BELOW RESTING'\n",
    "    }\n",
    "    df = df.rename(columns={col: new for col, new in col_renames.items() if col in df.columns})\n",
    "\n",
    "    return df\n",
    "\n",
    "# Map of months to file paths, February is special!\n",
    "month_map = {\n",
    "    \"November\": file_paths[0],\n",
    "    \"December\": file_paths[1],\n",
    "    \"January\": file_paths[2],\n",
    "    \"Febeuary\": file_paths[3],\n",
    "    \"March\": file_paths[4],\n",
    "    \"April\": file_paths[5],\n",
    "}\n",
    "\n",
    "# Clean and combine all DataFrames\n",
    "df_all = pd.concat(\n",
    "    [clean_sleep_df(path, month) for month, path in month_map.items()],\n",
    "    ignore_index=True\n",
    ")\n",
    "\n",
    "df_all.head()"
   ],
   "id": "9380feb8cd525208",
   "outputs": [
    {
     "data": {
      "text/plain": [
       "  DAY OF WEEK       DATE  SLEEP SCORE HOURS OF SLEEP REM SLEEP DEEP SLEEP  \\\n",
       "0      Monday  11/1/2021         88.0        8:06:00    20.00%     13.00%   \n",
       "1     Tuesday  11/2/2021         83.0        7:57:00    12.00%     18.00%   \n",
       "2   Wednesday  11/3/2021         81.0        7:06:00    13.00%     22.00%   \n",
       "3    Thursday  11/4/2021         86.0        7:04:00    19.00%     17.00%   \n",
       "4      Friday  11/5/2021         81.0        9:24:00    17.00%     15.00%   \n",
       "\n",
       "  HEART RATE BELOW RESTING        SLEEP TIME  \n",
       "0                   84.00%  10:41pm - 7:54am  \n",
       "1                   90.00%  10:40pm - 7:55am  \n",
       "2                   93.00%  11:03pm - 7:16am  \n",
       "3                   97.00%  10:55pm - 6:56am  \n",
       "4                   66.00%  10:14pm - 9:01am  "
      ],
      "text/html": [
       "<div>\n",
       "<style scoped>\n",
       "    .dataframe tbody tr th:only-of-type {\n",
       "        vertical-align: middle;\n",
       "    }\n",
       "\n",
       "    .dataframe tbody tr th {\n",
       "        vertical-align: top;\n",
       "    }\n",
       "\n",
       "    .dataframe thead th {\n",
       "        text-align: right;\n",
       "    }\n",
       "</style>\n",
       "<table border=\"1\" class=\"dataframe\">\n",
       "  <thead>\n",
       "    <tr style=\"text-align: right;\">\n",
       "      <th></th>\n",
       "      <th>DAY OF WEEK</th>\n",
       "      <th>DATE</th>\n",
       "      <th>SLEEP SCORE</th>\n",
       "      <th>HOURS OF SLEEP</th>\n",
       "      <th>REM SLEEP</th>\n",
       "      <th>DEEP SLEEP</th>\n",
       "      <th>HEART RATE BELOW RESTING</th>\n",
       "      <th>SLEEP TIME</th>\n",
       "    </tr>\n",
       "  </thead>\n",
       "  <tbody>\n",
       "    <tr>\n",
       "      <th>0</th>\n",
       "      <td>Monday</td>\n",
       "      <td>11/1/2021</td>\n",
       "      <td>88.0</td>\n",
       "      <td>8:06:00</td>\n",
       "      <td>20.00%</td>\n",
       "      <td>13.00%</td>\n",
       "      <td>84.00%</td>\n",
       "      <td>10:41pm - 7:54am</td>\n",
       "    </tr>\n",
       "    <tr>\n",
       "      <th>1</th>\n",
       "      <td>Tuesday</td>\n",
       "      <td>11/2/2021</td>\n",
       "      <td>83.0</td>\n",
       "      <td>7:57:00</td>\n",
       "      <td>12.00%</td>\n",
       "      <td>18.00%</td>\n",
       "      <td>90.00%</td>\n",
       "      <td>10:40pm - 7:55am</td>\n",
       "    </tr>\n",
       "    <tr>\n",
       "      <th>2</th>\n",
       "      <td>Wednesday</td>\n",
       "      <td>11/3/2021</td>\n",
       "      <td>81.0</td>\n",
       "      <td>7:06:00</td>\n",
       "      <td>13.00%</td>\n",
       "      <td>22.00%</td>\n",
       "      <td>93.00%</td>\n",
       "      <td>11:03pm - 7:16am</td>\n",
       "    </tr>\n",
       "    <tr>\n",
       "      <th>3</th>\n",
       "      <td>Thursday</td>\n",
       "      <td>11/4/2021</td>\n",
       "      <td>86.0</td>\n",
       "      <td>7:04:00</td>\n",
       "      <td>19.00%</td>\n",
       "      <td>17.00%</td>\n",
       "      <td>97.00%</td>\n",
       "      <td>10:55pm - 6:56am</td>\n",
       "    </tr>\n",
       "    <tr>\n",
       "      <th>4</th>\n",
       "      <td>Friday</td>\n",
       "      <td>11/5/2021</td>\n",
       "      <td>81.0</td>\n",
       "      <td>9:24:00</td>\n",
       "      <td>17.00%</td>\n",
       "      <td>15.00%</td>\n",
       "      <td>66.00%</td>\n",
       "      <td>10:14pm - 9:01am</td>\n",
       "    </tr>\n",
       "  </tbody>\n",
       "</table>\n",
       "</div>"
      ]
     },
     "execution_count": 450,
     "metadata": {},
     "output_type": "execute_result"
    }
   ],
   "execution_count": 450
  },
  {
   "metadata": {},
   "cell_type": "markdown",
   "source": "### Clean up Sleep Time",
   "id": "3e35fff7ed6755f7"
  },
  {
   "metadata": {
    "ExecuteTime": {
     "end_time": "2025-04-15T03:17:06.087696Z",
     "start_time": "2025-04-15T03:17:06.078829Z"
    }
   },
   "cell_type": "code",
   "source": [
    "# Split 'SLEEP TIME' into 'BED TIME' and 'WAKE UP TIME'\n",
    "df_all[['BED TIME', 'WAKE UP TIME']] = df_all['SLEEP TIME'].astype(str).str.split(' - ', expand=True)\n",
    "df_all = df_all.drop(columns=['SLEEP TIME'])\n",
    "\n",
    "# Check rows where values didn't parse cleanly\n",
    "print(df_all[df_all['WAKE UP TIME'].str.endswith('m') == False])\n",
    "print(df_all[df_all['BED TIME'].str.endswith('m') == False])"
   ],
   "id": "c2a1a53fdce29db0",
   "outputs": [
    {
     "name": "stdout",
     "output_type": "stream",
     "text": [
      "   DAY OF WEEK        DATE  SLEEP SCORE HOURS OF SLEEP REM SLEEP DEEP SLEEP  \\\n",
      "37   Wednesday  12/08/2021         85.0        6:47:00    22.00%     16.00%   \n",
      "57     Tuesday  12/28/2021         85.0        6:57:00    20.00%     18.00%   \n",
      "\n",
      "   HEART RATE BELOW RESTING BED TIME WAKE UP TIME  \n",
      "37                   94.00%  11:40pm         7:33  \n",
      "57                   99.00%  11:16pm         7:02  \n",
      "    DAY OF WEEK        DATE  SLEEP SCORE HOURS OF SLEEP REM SLEEP DEEP SLEEP  \\\n",
      "5      Saturday   11/6/2021         77.0        8:19:00    14.00%     13.00%   \n",
      "125      Sunday  03/06/2022          NaN            NaN       NaN        NaN   \n",
      "138    Saturday  03/19/2022          NaN            NaN       NaN        NaN   \n",
      "\n",
      "    HEART RATE BELOW RESTING BED TIME WAKE UP TIME  \n",
      "5                     21.00%    11:21       8:45am  \n",
      "125                      NaN      nan         None  \n",
      "138                      NaN      nan         None  \n"
     ]
    }
   ],
   "execution_count": 451
  },
  {
   "metadata": {},
   "cell_type": "markdown",
   "source": "### Feature Engineering and Further Cleaning",
   "id": "bb81d5618eaffa21"
  },
  {
   "metadata": {
    "ExecuteTime": {
     "end_time": "2025-04-15T03:17:06.147564Z",
     "start_time": "2025-04-15T03:17:06.139776Z"
    }
   },
   "cell_type": "code",
   "source": [
    "df_all = df_all.dropna(subset=['BED TIME', 'WAKE UP TIME'])\n",
    "# Add 'pm' to BED TIME if it doesn’t already end in 'am' or 'pm'\n",
    "df_all['BED TIME'] = df_all['BED TIME'].astype(str)\n",
    "df_all.loc[~df_all['BED TIME'].str.endswith(('am', 'pm')), 'BED TIME'] += 'pm'\n",
    "\n",
    "# Add 'am' to WAKE UP TIME if it doesn’t already end in 'am' or 'pm'\n",
    "df_all['WAKE UP TIME'] = df_all['WAKE UP TIME'].astype(str)\n",
    "df_all.loc[~df_all['WAKE UP TIME'].str.endswith(('am', 'pm')), 'WAKE UP TIME'] += 'am'\n",
    "\n",
    "# Fix common typo in both time columns\n",
    "df_all['BED TIME'] = df_all['BED TIME'].str.replace('-', ':', regex=False)\n",
    "df_all['WAKE UP TIME'] = df_all['WAKE UP TIME'].str.replace('-', ':', regex=False)"
   ],
   "id": "9eb022b8a90afdc7",
   "outputs": [],
   "execution_count": 452
  },
  {
   "metadata": {
    "ExecuteTime": {
     "end_time": "2025-04-15T03:17:06.214429Z",
     "start_time": "2025-04-15T03:17:06.175571Z"
    }
   },
   "cell_type": "code",
   "source": [
    "# Fix DATE column and extract components\n",
    "df_all['DATE'] = pd.to_datetime(df_all['DATE'], errors='coerce')\n",
    "df_all['YEAR'] = df_all['DATE'].dt.year\n",
    "df_all['MONTH'] = df_all['DATE'].dt.month\n",
    "df_all['DAY'] = df_all['DATE'].dt.day\n",
    "df_all = df_all.drop(columns=['DATE'])\n",
    "\n",
    "# Convert percentages to decimals\n",
    "pct_cols = ['REM SLEEP', 'DEEP SLEEP', 'HEART RATE BELOW RESTING']\n",
    "for col in pct_cols:\n",
    "    df_all[col] = df_all[col].astype(str).str.replace('%', '', regex=False).astype(float) / 100\n",
    "\n",
    "# Convert HOURS OF SLEEP (hh:mm:ss) to float hours\n",
    "def time_to_hours(t):\n",
    "    try:\n",
    "        parts = [int(x) for x in str(t).split(':')]\n",
    "        return parts[0] + parts[1]/60 + (parts[2]/3600 if len(parts) == 3 else 0)\n",
    "    except:\n",
    "        return None\n",
    "\n",
    "df_all['HOURS OF SLEEP'] = df_all['HOURS OF SLEEP'].apply(time_to_hours)\n",
    "\n",
    "# Categorize times of day\n",
    "def categorize_time(t):\n",
    "    try:\n",
    "        time = pd.to_datetime(t, format=\"%I:%M%p\").time()\n",
    "        hour = time.hour + time.minute / 60\n",
    "        if hour < 4:\n",
    "            return \"Late Night\"\n",
    "        elif hour < 8:\n",
    "            return \"Early Morning\"\n",
    "        elif hour < 12:\n",
    "            return \"Morning\"\n",
    "        elif hour < 17:\n",
    "            return \"Afternoon\"\n",
    "        elif hour < 21:\n",
    "            return \"Evening\"\n",
    "        else:\n",
    "            return \"Night\"\n",
    "    except:\n",
    "        return \"Unknown\"\n",
    "\n",
    "df_all['BED TIME CATEGORY'] = df_all['BED TIME'].apply(categorize_time)\n",
    "df_all['WAKE TIME CATEGORY'] = df_all['WAKE UP TIME'].apply(categorize_time)\n",
    "\n",
    "def extract_hour_float(t):\n",
    "    try:\n",
    "        dt = pd.to_datetime(t, format=\"%I:%M%p\")\n",
    "        return dt.hour + dt.minute / 60\n",
    "    except:\n",
    "        return None\n",
    "\n",
    "df_all['BED TIME (HOUR)'] = df_all['BED TIME'].apply(extract_hour_float)\n",
    "df_all['WAKE UP TIME (HOUR)'] = df_all['WAKE UP TIME'].apply(extract_hour_float)\n",
    "\n",
    "df_all.drop(columns = ['BED TIME', 'WAKE UP TIME'], inplace=True)"
   ],
   "id": "a5fcd75317631ef1",
   "outputs": [],
   "execution_count": 453
  },
  {
   "metadata": {
    "ExecuteTime": {
     "end_time": "2025-04-15T03:17:06.878661Z",
     "start_time": "2025-04-15T03:17:06.871430Z"
    }
   },
   "cell_type": "code",
   "source": [
    "df_sleep_clean = df_all.copy()\n",
    "df_sleep_clean.head()"
   ],
   "id": "f92304469858e3e7",
   "outputs": [
    {
     "data": {
      "text/plain": [
       "  DAY OF WEEK  SLEEP SCORE  HOURS OF SLEEP  REM SLEEP  DEEP SLEEP  \\\n",
       "0      Monday         88.0        8.100000       0.20        0.13   \n",
       "1     Tuesday         83.0        7.950000       0.12        0.18   \n",
       "2   Wednesday         81.0        7.100000       0.13        0.22   \n",
       "3    Thursday         86.0        7.066667       0.19        0.17   \n",
       "4      Friday         81.0        9.400000       0.17        0.15   \n",
       "\n",
       "   HEART RATE BELOW RESTING  YEAR  MONTH  DAY BED TIME CATEGORY  \\\n",
       "0                      0.84  2021     11    1             Night   \n",
       "1                      0.90  2021     11    2             Night   \n",
       "2                      0.93  2021     11    3             Night   \n",
       "3                      0.97  2021     11    4             Night   \n",
       "4                      0.66  2021     11    5             Night   \n",
       "\n",
       "  WAKE TIME CATEGORY  BED TIME (HOUR)  WAKE UP TIME (HOUR)  \n",
       "0      Early Morning        22.683333             7.900000  \n",
       "1      Early Morning        22.666667             7.916667  \n",
       "2      Early Morning        23.050000             7.266667  \n",
       "3      Early Morning        22.916667             6.933333  \n",
       "4            Morning        22.233333             9.016667  "
      ],
      "text/html": [
       "<div>\n",
       "<style scoped>\n",
       "    .dataframe tbody tr th:only-of-type {\n",
       "        vertical-align: middle;\n",
       "    }\n",
       "\n",
       "    .dataframe tbody tr th {\n",
       "        vertical-align: top;\n",
       "    }\n",
       "\n",
       "    .dataframe thead th {\n",
       "        text-align: right;\n",
       "    }\n",
       "</style>\n",
       "<table border=\"1\" class=\"dataframe\">\n",
       "  <thead>\n",
       "    <tr style=\"text-align: right;\">\n",
       "      <th></th>\n",
       "      <th>DAY OF WEEK</th>\n",
       "      <th>SLEEP SCORE</th>\n",
       "      <th>HOURS OF SLEEP</th>\n",
       "      <th>REM SLEEP</th>\n",
       "      <th>DEEP SLEEP</th>\n",
       "      <th>HEART RATE BELOW RESTING</th>\n",
       "      <th>YEAR</th>\n",
       "      <th>MONTH</th>\n",
       "      <th>DAY</th>\n",
       "      <th>BED TIME CATEGORY</th>\n",
       "      <th>WAKE TIME CATEGORY</th>\n",
       "      <th>BED TIME (HOUR)</th>\n",
       "      <th>WAKE UP TIME (HOUR)</th>\n",
       "    </tr>\n",
       "  </thead>\n",
       "  <tbody>\n",
       "    <tr>\n",
       "      <th>0</th>\n",
       "      <td>Monday</td>\n",
       "      <td>88.0</td>\n",
       "      <td>8.100000</td>\n",
       "      <td>0.20</td>\n",
       "      <td>0.13</td>\n",
       "      <td>0.84</td>\n",
       "      <td>2021</td>\n",
       "      <td>11</td>\n",
       "      <td>1</td>\n",
       "      <td>Night</td>\n",
       "      <td>Early Morning</td>\n",
       "      <td>22.683333</td>\n",
       "      <td>7.900000</td>\n",
       "    </tr>\n",
       "    <tr>\n",
       "      <th>1</th>\n",
       "      <td>Tuesday</td>\n",
       "      <td>83.0</td>\n",
       "      <td>7.950000</td>\n",
       "      <td>0.12</td>\n",
       "      <td>0.18</td>\n",
       "      <td>0.90</td>\n",
       "      <td>2021</td>\n",
       "      <td>11</td>\n",
       "      <td>2</td>\n",
       "      <td>Night</td>\n",
       "      <td>Early Morning</td>\n",
       "      <td>22.666667</td>\n",
       "      <td>7.916667</td>\n",
       "    </tr>\n",
       "    <tr>\n",
       "      <th>2</th>\n",
       "      <td>Wednesday</td>\n",
       "      <td>81.0</td>\n",
       "      <td>7.100000</td>\n",
       "      <td>0.13</td>\n",
       "      <td>0.22</td>\n",
       "      <td>0.93</td>\n",
       "      <td>2021</td>\n",
       "      <td>11</td>\n",
       "      <td>3</td>\n",
       "      <td>Night</td>\n",
       "      <td>Early Morning</td>\n",
       "      <td>23.050000</td>\n",
       "      <td>7.266667</td>\n",
       "    </tr>\n",
       "    <tr>\n",
       "      <th>3</th>\n",
       "      <td>Thursday</td>\n",
       "      <td>86.0</td>\n",
       "      <td>7.066667</td>\n",
       "      <td>0.19</td>\n",
       "      <td>0.17</td>\n",
       "      <td>0.97</td>\n",
       "      <td>2021</td>\n",
       "      <td>11</td>\n",
       "      <td>4</td>\n",
       "      <td>Night</td>\n",
       "      <td>Early Morning</td>\n",
       "      <td>22.916667</td>\n",
       "      <td>6.933333</td>\n",
       "    </tr>\n",
       "    <tr>\n",
       "      <th>4</th>\n",
       "      <td>Friday</td>\n",
       "      <td>81.0</td>\n",
       "      <td>9.400000</td>\n",
       "      <td>0.17</td>\n",
       "      <td>0.15</td>\n",
       "      <td>0.66</td>\n",
       "      <td>2021</td>\n",
       "      <td>11</td>\n",
       "      <td>5</td>\n",
       "      <td>Night</td>\n",
       "      <td>Morning</td>\n",
       "      <td>22.233333</td>\n",
       "      <td>9.016667</td>\n",
       "    </tr>\n",
       "  </tbody>\n",
       "</table>\n",
       "</div>"
      ]
     },
     "execution_count": 454,
     "metadata": {},
     "output_type": "execute_result"
    }
   ],
   "execution_count": 454
  },
  {
   "metadata": {
    "ExecuteTime": {
     "end_time": "2025-04-15T03:17:07.023652Z",
     "start_time": "2025-04-15T03:17:06.905137Z"
    }
   },
   "cell_type": "code",
   "source": [
    "import seaborn as sns\n",
    "import matplotlib.pyplot as plt\n",
    "\n",
    "# Calculate correlations with Sleep Score\n",
    "correlations = df_sleep_clean.corr(numeric_only=True)['SLEEP SCORE'].sort_values(ascending=False)\n",
    "\n",
    "# Plot\n",
    "plt.figure(figsize=(8, 5))\n",
    "sns.barplot(x=correlations.values[1:], y=correlations.index[1:], palette=\"crest\", hue = correlations.index[1:])\n",
    "plt.title(\"Correlation with Sleep Score\")\n",
    "plt.xlabel(\"Correlation Coefficient\")\n",
    "plt.tight_layout()\n",
    "plt.show()"
   ],
   "id": "28aad0773a6aa8e6",
   "outputs": [
    {
     "data": {
      "text/plain": [
       "<Figure size 800x500 with 1 Axes>"
      ],
      "image/png": "[encoded data removed]"
     },
     "metadata": {},
     "output_type": "display_data"
    }
   ],
   "execution_count": 455
  },
  {
   "metadata": {},
   "cell_type": "markdown",
   "source": [
    "Based on the correlation analysis shown above, the strongest numerical predictors of SLEEP SCORE are:\n",
    "\n",
    "HEART RATE BELOW RESTING (0.50) – Higher proportions below resting heart rate are associated with higher sleep scores.\n",
    "\n",
    "REM SLEEP (0.35) – More REM sleep correlates with higher sleep scores.\n",
    "\n",
    "HOURS OF SLEEP (0.33) – Longer sleep duration has a positive impact.\n",
    "\n",
    "DEEP SLEEP (0.24) – Also positively associated, though slightly less strongly.\n",
    "\n",
    "BED TIME (HOUR) (0.15) – Later bedtimes show a weaker positive correlation.\n",
    "\n",
    "WAKE UP TIME (HOUR) (-0.14) – Slight negative relationship; earlier wake-ups might be beneficial."
   ],
   "id": "13152b79f2d406fc"
  },
  {
   "metadata": {},
   "cell_type": "markdown",
   "source": "### Save to CSV for future use...",
   "id": "466d2de72829ba84"
  },
  {
   "metadata": {
    "ExecuteTime": {
     "end_time": "2025-04-15T03:17:07.052168Z",
     "start_time": "2025-04-15T03:17:07.046061Z"
    }
   },
   "cell_type": "code",
   "source": "df_sleep_clean.to_csv(\"Data/Cleaned_Sleep_Data.csv\", index = False)",
   "id": "b39c9bfc26088ee",
   "outputs": [],
   "execution_count": 456
  },
  {
   "metadata": {},
   "cell_type": "markdown",
   "source": [
    "## Modeling\n",
    "\n",
    "Now that our data is cleaned and prepped, we can move onto modeling!"
   ],
   "id": "dd55b487b4033ec0"
  },
  {
   "metadata": {},
   "cell_type": "markdown",
   "source": [
    "### Bagging Ensemble Models\n",
    "\n",
    "Based on some trial and error, I found that the best performing features were: \n",
    "\n",
    "```\n",
    "['DAY OF WEEK', 'HOURS OF SLEEP', 'REM SLEEP', 'DEEP SLEEP',\n",
    " 'HEART RATE BELOW RESTING', 'MONTH', 'YEAR', 'BED TIME CATEGORY', 'WAKE TIME CATEGORY']\n",
    "```\n"
   ],
   "id": "6edd6011d4fc800c"
  },
  {
   "metadata": {
    "ExecuteTime": {
     "end_time": "2025-04-15T03:17:07.074429Z",
     "start_time": "2025-04-15T03:17:07.071175Z"
    }
   },
   "cell_type": "code",
   "source": [
    "from sklearn.compose import ColumnTransformer\n",
    "from sklearn.preprocessing import OneHotEncoder\n",
    "from sklearn.model_selection import train_test_split\n",
    "from sklearn.pipeline import Pipeline\n",
    "from sklearn.metrics import mean_squared_error, r2_score\n",
    "from sklearn.model_selection import GridSearchCV\n",
    "from sklearn.tree import DecisionTreeRegressor\n",
    "from sklearn.ensemble import BaggingRegressor"
   ],
   "id": "84dedf3cd99ed8bd",
   "outputs": [],
   "execution_count": 457
  },
  {
   "metadata": {},
   "cell_type": "markdown",
   "source": "#### Descision Tree Regressor",
   "id": "2eecc965b89f6457"
  },
  {
   "metadata": {
    "ExecuteTime": {
     "end_time": "2025-04-15T03:17:11.336086Z",
     "start_time": "2025-04-15T03:17:07.356408Z"
    }
   },
   "cell_type": "code",
   "source": [
    "# Split predictors and target\n",
    "X = df_sleep_clean[['DAY OF WEEK', 'HOURS OF SLEEP', 'REM SLEEP', 'DEEP SLEEP', 'HEART RATE BELOW RESTING', 'MONTH', 'YEAR', 'BED TIME CATEGORY', 'WAKE TIME CATEGORY']]\n",
    "y = df_sleep_clean['SLEEP SCORE']\n",
    "\n",
    "# Train/test split\n",
    "X_train, X_test, y_train, y_test = train_test_split(X, y, test_size=0.2, random_state=3)\n",
    "\n",
    "# Preprocessing for categorical features\n",
    "categorical_features = ['DAY OF WEEK', 'BED TIME CATEGORY', 'WAKE TIME CATEGORY']\n",
    "categorical_transformer = OneHotEncoder(drop='first', handle_unknown = 'ignore')\n",
    "\n",
    "tree_preprocessor = ColumnTransformer(\n",
    "    transformers=[('cat', categorical_transformer, categorical_features)],\n",
    "    remainder='passthrough'\n",
    ")\n",
    "\n",
    "# Pipeline: preprocessing + bagging model\n",
    "pipe_tree = Pipeline(steps=[\n",
    "    ('preprocessor', tree_preprocessor),\n",
    "    ('regressor', BaggingRegressor(\n",
    "        estimator=DecisionTreeRegressor(random_state=3),\n",
    "        random_state=3\n",
    "    )),\n",
    "])\n",
    "\n",
    "# Grid search\n",
    "param_grid_tree = {\n",
    "    'regressor__n_estimators': [50, 100, 200, 250], # B \n",
    "    'regressor__estimator__max_depth': [None, 5, 10, 20],\n",
    "    'regressor__estimator__min_samples_split': [2, 5]\n",
    "}\n",
    "\n",
    "# Grid search with cross-validation\n",
    "grid_search = GridSearchCV(pipe_tree, param_grid_tree, cv=5, scoring='neg_mean_squared_error', n_jobs=-1)\n",
    "grid_search.fit(X_train, y_train)\n",
    "\n",
    "# Evaluate best model\n",
    "best_tree = grid_search.best_estimator_\n",
    "y_pred = best_tree.predict(X_test)\n",
    "print(f\"Best Params: {grid_search.best_params_}\")\n",
    "print(f\"Bagging MSE: {mean_squared_error(y_test, y_pred):.2f}\")\n",
    "print(f\"Bagging R²: {r2_score(y_test, y_pred):.3f}\")"
   ],
   "id": "604ab2adea9d891b",
   "outputs": [
    {
     "name": "stdout",
     "output_type": "stream",
     "text": [
      "Best Params: {'regressor__estimator__max_depth': None, 'regressor__estimator__min_samples_split': 5, 'regressor__n_estimators': 50}\n",
      "Bagging MSE: 3.66\n",
      "Bagging R²: 0.780\n"
     ]
    }
   ],
   "execution_count": 458
  },
  {
   "metadata": {},
   "cell_type": "markdown",
   "source": "#### Ridge Regressor",
   "id": "ec2e0ac1ee412bb9"
  },
  {
   "metadata": {
    "ExecuteTime": {
     "end_time": "2025-04-15T03:17:12.447471Z",
     "start_time": "2025-04-15T03:17:11.589643Z"
    }
   },
   "cell_type": "code",
   "source": [
    "from sklearn.linear_model import Ridge\n",
    "from sklearn.preprocessing import StandardScaler\n",
    "\n",
    "numeric_transformer = StandardScaler()\n",
    "numeric_features = [col for col in X.columns if col not in categorical_features]\n",
    "\n",
    "\n",
    "ridge_preprocessor = ColumnTransformer(\n",
    "    transformers=[\n",
    "        ('cat', categorical_transformer, categorical_features),\n",
    "        ('num', numeric_transformer, numeric_features)\n",
    "    ]\n",
    ")\n",
    "pipe_ridge = Pipeline(steps=[\n",
    "    ('preprocessor', ridge_preprocessor),\n",
    "    ('regressor', BaggingRegressor(estimator=Ridge(),\n",
    "        random_state=3\n",
    "    )),\n",
    "])\n",
    "\n",
    "param_grid_ridge = {\n",
    "    'regressor__n_estimators': [50, 100, 200],\n",
    "    'regressor__estimator__alpha': [0.1, 1.0, 10.0]\n",
    "}\n",
    "\n",
    "grid_ridge = GridSearchCV(pipe_ridge, param_grid_ridge, cv=5, scoring='neg_mean_squared_error', n_jobs=-1)\n",
    "grid_ridge.fit(X_train, y_train)\n",
    "\n",
    "# Evaluate best model\n",
    "best_ridge = grid_ridge.best_estimator_\n",
    "y_pred = best_ridge.predict(X_test)\n",
    "ridge_mse = mean_squared_error(y_test, y_pred)\n",
    "ridge_r2 = r2_score(y_test, y_pred)\n",
    "\n",
    "print(f\"Best Params: {grid_ridge.best_params_}\")\n",
    "print(f\"Bagging Ridge Test MSE: {ridge_mse:.2f}\")\n",
    "print(f\"Bagging Ridge Test R²: {ridge_r2:.3f}\")"
   ],
   "id": "9fc3fdc355f0df09",
   "outputs": [
    {
     "name": "stdout",
     "output_type": "stream",
     "text": [
      "Best Params: {'regressor__estimator__alpha': 10.0, 'regressor__n_estimators': 200}\n",
      "Bagging Ridge Test MSE: 4.07\n",
      "Bagging Ridge Test R²: 0.755\n"
     ]
    }
   ],
   "execution_count": 459
  },
  {
   "metadata": {},
   "cell_type": "markdown",
   "source": "#### SVR",
   "id": "64d3308ca2a9707f"
  },
  {
   "metadata": {
    "ExecuteTime": {
     "end_time": "2025-04-15T03:17:14.064093Z",
     "start_time": "2025-04-15T03:17:12.974313Z"
    }
   },
   "cell_type": "code",
   "source": [
    "from sklearn.svm import SVR\n",
    "\n",
    "svr_preprocessor = ColumnTransformer(\n",
    "    transformers=[\n",
    "        ('cat', categorical_transformer, categorical_features),\n",
    "        ('num', numeric_transformer, numeric_features)\n",
    "    ]\n",
    ")\n",
    "\n",
    "# Pipeline\n",
    "pipe_svr = Pipeline(steps=[\n",
    "    ('preprocessor', svr_preprocessor),\n",
    "    ('regressor', BaggingRegressor(\n",
    "        estimator=SVR(),\n",
    "        random_state=3\n",
    "    )),\n",
    "])\n",
    "\n",
    "# Grid\n",
    "param_grid_svr = {\n",
    "    'regressor__n_estimators': [50, 100, 200],\n",
    "    'regressor__estimator__C': [0.1, 1.0, 10.0]\n",
    "}\n",
    "\n",
    "# GridSearch\n",
    "grid_svr = GridSearchCV(pipe_svr, param_grid_svr, cv=5, scoring='neg_mean_squared_error', n_jobs=-1)\n",
    "grid_svr.fit(X_train, y_train)\n",
    "\n",
    "# Evaluation\n",
    "best_svr = grid_svr.best_estimator_\n",
    "y_pred = best_svr.predict(X_test)\n",
    "svr_mse = mean_squared_error(y_test, y_pred)\n",
    "svr_r2 = r2_score(y_test, y_pred)\n",
    "\n",
    "print(f\"Best Params: {grid_svr.best_params_}\")\n",
    "print(f\"Bagging (SVR) Test MSE: {svr_mse:.2f}\")\n",
    "print(f\"Bagging (SVR) Test R²: {svr_r2:.3f}\")\n"
   ],
   "id": "23122acde1bbee65",
   "outputs": [
    {
     "name": "stdout",
     "output_type": "stream",
     "text": [
      "Best Params: {'regressor__estimator__C': 10.0, 'regressor__n_estimators': 200}\n",
      "Bagging (SVR) Test MSE: 5.26\n",
      "Bagging (SVR) Test R²: 0.683\n"
     ]
    }
   ],
   "execution_count": 460
  },
  {
   "metadata": {},
   "cell_type": "markdown",
   "source": "#### Random Forest Regressor",
   "id": "d17daaea8c3b2515"
  },
  {
   "metadata": {
    "ExecuteTime": {
     "end_time": "2025-04-15T03:18:39.636685Z",
     "start_time": "2025-04-15T03:18:32.427738Z"
    }
   },
   "cell_type": "code",
   "source": [
    "from sklearn.ensemble import RandomForestRegressor\n",
    "\n",
    "pipe_rf = Pipeline(steps=[\n",
    "    ('preprocessor', tree_preprocessor),\n",
    "    ('regressor', RandomForestRegressor(random_state=3))\n",
    "])\n",
    "\n",
    "# Random Forest hyperparameters\n",
    "param_grid_rf = {\n",
    "    'regressor__n_estimators': [50, 100, 200, 250],\n",
    "    'regressor__max_depth': [None, 5, 10, 20],\n",
    "    'regressor__min_samples_split': [2, 5],\n",
    "    'regressor__max_features': [None, 'sqrt', 'log2']\n",
    "}\n",
    "\n",
    "# Grid search for RF\n",
    "grid_rf = GridSearchCV(pipe_rf, param_grid_rf, cv=5, scoring='neg_mean_squared_error', n_jobs=-1)\n",
    "grid_rf.fit(X_train, y_train)\n",
    "\n",
    "# Evaluate RF\n",
    "best_rf = grid_rf.best_estimator_\n",
    "y_pred_rf = best_rf.predict(X_test)\n",
    "mse_rf = mean_squared_error(y_test, y_pred_rf)\n",
    "r2_rf = r2_score(y_test, y_pred_rf)\n",
    "\n",
    "print(f\"Best Params: {grid_rf.best_params_}\")\n",
    "print(f\"RF Test MSE: {mse_rf:.2f}\")\n",
    "print(f\"RF Test R²: {r2_rf:.3f}\")"
   ],
   "id": "a44025d12800070f",
   "outputs": [
    {
     "name": "stdout",
     "output_type": "stream",
     "text": [
      "Best Params: {'regressor__max_depth': None, 'regressor__max_features': None, 'regressor__min_samples_split': 5, 'regressor__n_estimators': 50}\n",
      "RF Test MSE: 3.68\n",
      "RF Test R²: 0.778\n"
     ]
    }
   ],
   "execution_count": 464
  },
  {
   "metadata": {},
   "cell_type": "markdown",
   "source": [
    "For the bagging ensemble models, I experimented with several base learners using a consistent set of high-performing features, including measures of sleep duration, sleep stages, heart rate, and time-based variables like month and bedtime category. The Decision Tree and Random Forest regressors performed the best overall, with the bagged Decision Tree achieving an R² of **0.780** and the Random Forest slightly behind at **0.778**. These models benefitted from the ability to handle complex interactions and non-linear relationships in the sleep data.\n",
    "\n",
    "The bagged Ridge Regressor also performed decently (R² = **0.755**) but showed slightly higher error, likely due to its linear nature and lower flexibility. The SVR-based bagging model had the weakest performance (R² = **0.683**), even with hyperparameter tuning, suggesting it may not have generalized well to the variability in the data. Overall, the bagging approach clearly improved model stability, especially for tree-based methods, and these results laid the foundation for selecting strong candidates for the final stacking ensemble."
   ],
   "id": "f4a8524702300420"
  },
  {
   "metadata": {},
   "cell_type": "markdown",
   "source": "### Stacking Ensemble Model",
   "id": "c970e6e2b489e207"
  },
  {
   "metadata": {
    "ExecuteTime": {
     "end_time": "2025-04-15T03:23:02.924328Z",
     "start_time": "2025-04-15T03:23:01.374033Z"
    }
   },
   "cell_type": "code",
   "source": [
    "from sklearn.ensemble import StackingRegressor\n",
    "\n",
    "# Base models from above\n",
    "base_models = [\n",
    "    ('ridge', best_ridge),\n",
    "    ('svr', best_svr),\n",
    "    ('rf', best_rf)\n",
    "]\n",
    "\n",
    "# Final estimator: simple Ridge since it did the best (other than bagging)\n",
    "final_estimator = Ridge(alpha=1.0)\n",
    "\n",
    "# Stacking Regressor\n",
    "stack_model = StackingRegressor(\n",
    "    estimators=base_models,\n",
    "    final_estimator=final_estimator,\n",
    "    passthrough=False,  # set True to include original features in meta-model\n",
    "    n_jobs=-1\n",
    ")\n",
    "\n",
    "# Fit on training data\n",
    "stack_model.fit(X_train, y_train)\n",
    "\n",
    "# Predict and evaluate\n",
    "y_pred_stack = stack_model.predict(X_test)\n",
    "mse_stack = mean_squared_error(y_test, y_pred_stack)\n",
    "r2_stack = r2_score(y_test, y_pred_stack)\n",
    "\n",
    "print(f\"Stacking Model Test MSE: {mse_stack:.2f}\")\n",
    "print(f\"Stacking Model Test R²: {r2_stack:.3f}\")"
   ],
   "id": "c427d9b7dafd22f2",
   "outputs": [
    {
     "name": "stdout",
     "output_type": "stream",
     "text": [
      "Stacking Model Test MSE: 3.09\n",
      "Stacking Model Test R²: 0.814\n"
     ]
    }
   ],
   "execution_count": 469
  },
  {
   "metadata": {},
   "cell_type": "markdown",
   "source": "To build a strong predictive model for Sleep Score, I used a stacking ensemble that combined the best of three different types of base learners I used above: a Random Forest Regressor, a Bagging Model with a Support Vector Regressor (SVR), and a Bagging Model with a Ridge Regressor. Each model brings a different strength to the ensemble—Random Forest captures non-linear interactions, SVR handles fine-grained patterns, and Ridge adds a stable, regularized linear component. I chose Ridge again as the final estimator (meta-learner) to combine the base models' predictions in a way that avoids overfitting and balances complexity. The final stacked model achieved a Test MSE of **3.09** and an R² of **0.814**, meaning it explains over 81% of the variance in Sleep Score. This is a strong result, especially given the subjective nature of the target variable. The residual plot also showed no major signs of bias or heteroscedasticity, which suggests that the model is performing consistently across different sleep score ranges. Overall, the ensemble approach clearly improved prediction accuracy over any individual model.",
   "id": "6bca80e14e0224f"
  },
  {
   "metadata": {
    "ExecuteTime": {
     "end_time": "2025-04-15T03:26:01.407645Z",
     "start_time": "2025-04-15T03:26:01.306170Z"
    }
   },
   "cell_type": "code",
   "source": [
    "plt.figure(figsize=(10, 6))\n",
    "# Residuals\n",
    "residuals = y_test - y_pred_stack\n",
    "# Scatterplot\n",
    "sns.scatterplot(x=y_pred_stack, y=residuals, color=\"#1f77b4\", edgecolor='black', alpha=0.7)\n",
    "# Horizontal line at zero\n",
    "plt.axhline(0, color='red', linestyle='--', linewidth=1)\n",
    "# Titles and labels\n",
    "plt.title(\"Residual Plot of Stacking Ensemble Model\", fontsize=16, weight='bold')\n",
    "plt.xlabel(\"Predicted Sleep Score\", fontsize=12)\n",
    "plt.ylabel(\"Residual (Actual - Predicted)\", fontsize=12)\n",
    "plt.grid(True, linestyle='--', alpha=0.5)\n",
    "# Add light background\n",
    "plt.gca().set_facecolor(\"#f9f9f9\")\n",
    "plt.tight_layout()\n",
    "plt.show()"
   ],
   "id": "2e8f641bbb95cefe",
   "outputs": [
    {
     "data": {
      "text/plain": [
       "<Figure size 1000x600 with 1 Axes>"
      ],
      "image/png": "[encoded data removed]"
     },
     "metadata": {},
     "output_type": "display_data"
    }
   ],
   "execution_count": 473
  },
  {
   "metadata": {},
   "cell_type": "markdown",
   "source": [
    "The residual plot above shows the difference between the actual and predicted sleep scores (residuals) on the vertical axis, plotted against the predicted sleep scores on the horizontal axis.\n",
    "\n",
    "Centering around zero:\n",
    "Most residuals are clustered around 0, which indicates that the model is generally making accurate predictions. This is what we want—no consistent over- or under-prediction.\n",
    "\n",
    "Symmetry and spread:\n",
    "The residuals appear to be fairly symmetric and randomly scattered, without any clear pattern or curve. This suggests that the model is not missing a key nonlinear relationship and that the assumptions of linearity and independence are reasonably met.\n",
    "\n",
    "Outliers:\n",
    "There are a few larger residuals (e.g., one around -4), meaning the model underestimated sleep score by about 4 points in that instance. However, there are no extreme clusters or problematic trends, so these are likely just natural variance in the data.\n",
    "\n",
    "No heteroscedasticity:\n",
    "The spread of residuals is fairly constant across the range of predicted sleep scores. If we saw a funnel shape (widening or narrowing), it would suggest that the model struggles more in certain prediction ranges."
   ],
   "id": "8438efa744929e2a"
  }
 ],
 "metadata": {
  "kernelspec": {
   "display_name": "Python 3",
   "language": "python",
   "name": "python3"
  },
  "language_info": {
   "codemirror_mode": {
    "name": "ipython",
    "version": 2
   },
   "file_extension": ".py",
   "mimetype": "text/x-python",
   "name": "python",
   "nbconvert_exporter": "python",
   "pygments_lexer": "ipython2",
   "version": "2.7.6"
  }
 },
 "nbformat": 4,
 "nbformat_minor": 5
}
