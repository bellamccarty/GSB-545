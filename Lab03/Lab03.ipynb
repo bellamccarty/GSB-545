{
 "cells": [
  {
   "metadata": {},
   "cell_type": "raw",
   "source": [
    "---\n",
    "title: \"Lab 3: Naive Bayes and Neural Networks\"\n",
    "author: \"Isabella McCarty\"\n",
    "format:\n",
    "  html:\n",
    "    toc: true\n",
    "    code-fold: true\n",
    "    theme: pulse\n",
    "    code-line-numbers: true\n",
    "    code-tools: true\n",
    "    self-contained: true\n",
    "execute:\n",
    "  message: false\n",
    "  warning: false\n",
    "---"
   ],
   "id": "9be43ebd50db2222"
  },
  {
   "metadata": {},
   "cell_type": "markdown",
   "source": [
    "In this lab, we’ll be using a dataset from Kaggle — always a rich source for real-world problems! Specifically, we'll work with an **Income** dataset to predict whether an individual makes **over $50,000 per year** based on various features.\n",
    "\n",
    "**[Dataset Link: Income Classification Dataset](https://www.kaggle.com/datasets/lodetomasi1995/income-classification?sort=published)**\n",
    "\n",
    "---\n",
    "\n",
    "## Lab Goals\n",
    "- **Primary Objective:** Predict whether an individual earns more than $50,000 per year.\n",
    "- **Secondary Objectives:** \n",
    "  - Explore model performance across different techniques.\n",
    "  - Understand how different data types impact modeling, especially with neural networks.\n",
    "\n",
    "## Assignment Specifications\n",
    "\n",
    "- **Required Models:**\n",
    "  - Implement a **Naive Bayes** model.\n",
    "  - Implement a **Neural Network** model.\n",
    "\n",
    "- **Additional Models:**\n",
    "  - Explore at least **two additional models** (e.g. Decision Trees, Random Forest, etc.).\n",
    "  - *Tip:* You can use multiple neural network variations if you like, but we encourage you to revisit some of the classical models we’ve discussed previously.\n",
    "\n",
    "- **Data Preprocessing:**\n",
    "  - The dataset includes variables of multiple types (numerical, categorical, etc.).\n",
    "  - You **may need to one-hot encode** the categorical (character) variables, especially for models like Neural Networks.\n",
    "\n",
    "- **Narration & Documentation:**\n",
    "  - Write your notebook for a **non-expert audience**:\n",
    "    - Explain your steps clearly.\n",
    "    - Avoid technical jargon where possible.\n",
    "    - Include all your code, but focus on **narrating** your choices, findings, and interpretations in plain language.\n",
    "\n",
    "- **Submission Instructions:**\n",
    "  - Submit your work as one of the following:\n",
    "    - An **HTML** file\n",
    "    - An **IPYNB (Jupyter Notebook)** file\n",
    "    - A **Google Colab link**\n",
    "  - **Important:** Before submitting, rerun your entire notebook from top to bottom to ensure it runs cleanly!\n",
    "___\n",
    "\n",
    "## Dataset Preview"
   ],
   "id": "9a99032e87278b12"
  },
  {
   "metadata": {
    "ExecuteTime": {
     "end_time": "2025-04-29T01:11:30.491892Z",
     "start_time": "2025-04-29T01:11:30.487893Z"
    }
   },
   "cell_type": "code",
   "source": [
    "# Basic imports\n",
    "import pandas as pd\n",
    "import numpy as np\n",
    "import matplotlib.pyplot as plt\n",
    "import seaborn as sns\n",
    "\n",
    "# Modeling imports\n",
    "from sklearn.model_selection import train_test_split\n",
    "from sklearn.preprocessing import OneHotEncoder, StandardScaler\n",
    "from sklearn.compose import ColumnTransformer\n",
    "from sklearn.pipeline import Pipeline\n",
    "from sklearn.metrics import classification_report, confusion_matrix, accuracy_score\n",
    "\n",
    "# Models\n",
    "from sklearn.naive_bayes import GaussianNB\n",
    "from sklearn.neural_network import MLPClassifier\n",
    "from sklearn.tree import DecisionTreeClassifier\n",
    "from sklearn.ensemble import RandomForestClassifier"
   ],
   "id": "c91bc971f526de0a",
   "outputs": [],
   "execution_count": 42
  },
  {
   "metadata": {
    "ExecuteTime": {
     "end_time": "2025-04-29T01:11:30.550761Z",
     "start_time": "2025-04-29T01:11:30.500276Z"
    }
   },
   "cell_type": "code",
   "source": [
    "df = pd.read_csv('Data/income_evaluation.csv')\n",
    "df.head()"
   ],
   "id": "d875aa06c947a82d",
   "outputs": [
    {
     "data": {
      "text/plain": [
       "   age          workclass   fnlwgt   education   education-num  \\\n",
       "0   39          State-gov    77516   Bachelors              13   \n",
       "1   50   Self-emp-not-inc    83311   Bachelors              13   \n",
       "2   38            Private   215646     HS-grad               9   \n",
       "3   53            Private   234721        11th               7   \n",
       "4   28            Private   338409   Bachelors              13   \n",
       "\n",
       "        marital-status          occupation    relationship    race      sex  \\\n",
       "0        Never-married        Adm-clerical   Not-in-family   White     Male   \n",
       "1   Married-civ-spouse     Exec-managerial         Husband   White     Male   \n",
       "2             Divorced   Handlers-cleaners   Not-in-family   White     Male   \n",
       "3   Married-civ-spouse   Handlers-cleaners         Husband   Black     Male   \n",
       "4   Married-civ-spouse      Prof-specialty            Wife   Black   Female   \n",
       "\n",
       "    capital-gain   capital-loss   hours-per-week  native-country  income  \n",
       "0           2174              0               40   United-States   <=50K  \n",
       "1              0              0               13   United-States   <=50K  \n",
       "2              0              0               40   United-States   <=50K  \n",
       "3              0              0               40   United-States   <=50K  \n",
       "4              0              0               40            Cuba   <=50K  "
      ],
      "text/html": [
       "<div>\n",
       "<style scoped>\n",
       "    .dataframe tbody tr th:only-of-type {\n",
       "        vertical-align: middle;\n",
       "    }\n",
       "\n",
       "    .dataframe tbody tr th {\n",
       "        vertical-align: top;\n",
       "    }\n",
       "\n",
       "    .dataframe thead th {\n",
       "        text-align: right;\n",
       "    }\n",
       "</style>\n",
       "<table border=\"1\" class=\"dataframe\">\n",
       "  <thead>\n",
       "    <tr style=\"text-align: right;\">\n",
       "      <th></th>\n",
       "      <th>age</th>\n",
       "      <th>workclass</th>\n",
       "      <th>fnlwgt</th>\n",
       "      <th>education</th>\n",
       "      <th>education-num</th>\n",
       "      <th>marital-status</th>\n",
       "      <th>occupation</th>\n",
       "      <th>relationship</th>\n",
       "      <th>race</th>\n",
       "      <th>sex</th>\n",
       "      <th>capital-gain</th>\n",
       "      <th>capital-loss</th>\n",
       "      <th>hours-per-week</th>\n",
       "      <th>native-country</th>\n",
       "      <th>income</th>\n",
       "    </tr>\n",
       "  </thead>\n",
       "  <tbody>\n",
       "    <tr>\n",
       "      <th>0</th>\n",
       "      <td>39</td>\n",
       "      <td>State-gov</td>\n",
       "      <td>77516</td>\n",
       "      <td>Bachelors</td>\n",
       "      <td>13</td>\n",
       "      <td>Never-married</td>\n",
       "      <td>Adm-clerical</td>\n",
       "      <td>Not-in-family</td>\n",
       "      <td>White</td>\n",
       "      <td>Male</td>\n",
       "      <td>2174</td>\n",
       "      <td>0</td>\n",
       "      <td>40</td>\n",
       "      <td>United-States</td>\n",
       "      <td>&lt;=50K</td>\n",
       "    </tr>\n",
       "    <tr>\n",
       "      <th>1</th>\n",
       "      <td>50</td>\n",
       "      <td>Self-emp-not-inc</td>\n",
       "      <td>83311</td>\n",
       "      <td>Bachelors</td>\n",
       "      <td>13</td>\n",
       "      <td>Married-civ-spouse</td>\n",
       "      <td>Exec-managerial</td>\n",
       "      <td>Husband</td>\n",
       "      <td>White</td>\n",
       "      <td>Male</td>\n",
       "      <td>0</td>\n",
       "      <td>0</td>\n",
       "      <td>13</td>\n",
       "      <td>United-States</td>\n",
       "      <td>&lt;=50K</td>\n",
       "    </tr>\n",
       "    <tr>\n",
       "      <th>2</th>\n",
       "      <td>38</td>\n",
       "      <td>Private</td>\n",
       "      <td>215646</td>\n",
       "      <td>HS-grad</td>\n",
       "      <td>9</td>\n",
       "      <td>Divorced</td>\n",
       "      <td>Handlers-cleaners</td>\n",
       "      <td>Not-in-family</td>\n",
       "      <td>White</td>\n",
       "      <td>Male</td>\n",
       "      <td>0</td>\n",
       "      <td>0</td>\n",
       "      <td>40</td>\n",
       "      <td>United-States</td>\n",
       "      <td>&lt;=50K</td>\n",
       "    </tr>\n",
       "    <tr>\n",
       "      <th>3</th>\n",
       "      <td>53</td>\n",
       "      <td>Private</td>\n",
       "      <td>234721</td>\n",
       "      <td>11th</td>\n",
       "      <td>7</td>\n",
       "      <td>Married-civ-spouse</td>\n",
       "      <td>Handlers-cleaners</td>\n",
       "      <td>Husband</td>\n",
       "      <td>Black</td>\n",
       "      <td>Male</td>\n",
       "      <td>0</td>\n",
       "      <td>0</td>\n",
       "      <td>40</td>\n",
       "      <td>United-States</td>\n",
       "      <td>&lt;=50K</td>\n",
       "    </tr>\n",
       "    <tr>\n",
       "      <th>4</th>\n",
       "      <td>28</td>\n",
       "      <td>Private</td>\n",
       "      <td>338409</td>\n",
       "      <td>Bachelors</td>\n",
       "      <td>13</td>\n",
       "      <td>Married-civ-spouse</td>\n",
       "      <td>Prof-specialty</td>\n",
       "      <td>Wife</td>\n",
       "      <td>Black</td>\n",
       "      <td>Female</td>\n",
       "      <td>0</td>\n",
       "      <td>0</td>\n",
       "      <td>40</td>\n",
       "      <td>Cuba</td>\n",
       "      <td>&lt;=50K</td>\n",
       "    </tr>\n",
       "  </tbody>\n",
       "</table>\n",
       "</div>"
      ]
     },
     "execution_count": 43,
     "metadata": {},
     "output_type": "execute_result"
    }
   ],
   "execution_count": 43
  },
  {
   "metadata": {},
   "cell_type": "markdown",
   "source": "### Dataset Information",
   "id": "aca220100b2d3239"
  },
  {
   "metadata": {
    "ExecuteTime": {
     "end_time": "2025-04-29T01:11:30.593023Z",
     "start_time": "2025-04-29T01:11:30.580649Z"
    }
   },
   "cell_type": "code",
   "source": "df.info()",
   "id": "b115f04e742cb02b",
   "outputs": [
    {
     "name": "stdout",
     "output_type": "stream",
     "text": [
      "<class 'pandas.core.frame.DataFrame'>\n",
      "RangeIndex: 32561 entries, 0 to 32560\n",
      "Data columns (total 15 columns):\n",
      " #   Column           Non-Null Count  Dtype \n",
      "---  ------           --------------  ----- \n",
      " 0   age              32561 non-null  int64 \n",
      " 1    workclass       32561 non-null  object\n",
      " 2    fnlwgt          32561 non-null  int64 \n",
      " 3    education       32561 non-null  object\n",
      " 4    education-num   32561 non-null  int64 \n",
      " 5    marital-status  32561 non-null  object\n",
      " 6    occupation      32561 non-null  object\n",
      " 7    relationship    32561 non-null  object\n",
      " 8    race            32561 non-null  object\n",
      " 9    sex             32561 non-null  object\n",
      " 10   capital-gain    32561 non-null  int64 \n",
      " 11   capital-loss    32561 non-null  int64 \n",
      " 12   hours-per-week  32561 non-null  int64 \n",
      " 13   native-country  32561 non-null  object\n",
      " 14   income          32561 non-null  object\n",
      "dtypes: int64(6), object(9)\n",
      "memory usage: 3.7+ MB\n"
     ]
    }
   ],
   "execution_count": 44
  },
  {
   "metadata": {
    "ExecuteTime": {
     "end_time": "2025-04-29T01:11:30.619564Z",
     "start_time": "2025-04-29T01:11:30.616112Z"
    }
   },
   "cell_type": "code",
   "source": "df.columns",
   "id": "6428cf58290cf7cc",
   "outputs": [
    {
     "data": {
      "text/plain": [
       "Index(['age', ' workclass', ' fnlwgt', ' education', ' education-num',\n",
       "       ' marital-status', ' occupation', ' relationship', ' race', ' sex',\n",
       "       ' capital-gain', ' capital-loss', ' hours-per-week', ' native-country',\n",
       "       ' income'],\n",
       "      dtype='object')"
      ]
     },
     "execution_count": 45,
     "metadata": {},
     "output_type": "execute_result"
    }
   ],
   "execution_count": 45
  },
  {
   "metadata": {
    "ExecuteTime": {
     "end_time": "2025-04-29T01:11:30.700372Z",
     "start_time": "2025-04-29T01:11:30.696987Z"
    }
   },
   "cell_type": "code",
   "source": [
    "def remove_spaces_from_columns(df):\n",
    "    df.columns = df.columns.str.replace(' ', '', regex=False)\n",
    "    return df\n",
    "df = remove_spaces_from_columns(df)"
   ],
   "id": "4fd2d59c35a722e",
   "outputs": [],
   "execution_count": 46
  },
  {
   "metadata": {
    "ExecuteTime": {
     "end_time": "2025-04-29T01:11:30.742503Z",
     "start_time": "2025-04-29T01:11:30.738445Z"
    }
   },
   "cell_type": "code",
   "source": "df.columns",
   "id": "e09d10a2632ead2e",
   "outputs": [
    {
     "data": {
      "text/plain": [
       "Index(['age', 'workclass', 'fnlwgt', 'education', 'education-num',\n",
       "       'marital-status', 'occupation', 'relationship', 'race', 'sex',\n",
       "       'capital-gain', 'capital-loss', 'hours-per-week', 'native-country',\n",
       "       'income'],\n",
       "      dtype='object')"
      ]
     },
     "execution_count": 47,
     "metadata": {},
     "output_type": "execute_result"
    }
   ],
   "execution_count": 47
  },
  {
   "metadata": {},
   "cell_type": "markdown",
   "source": [
    "### Class Distribution of Our Target\n",
    "Do we have a majority class? "
   ],
   "id": "f12c2cdba1651bcf"
  },
  {
   "metadata": {
    "ExecuteTime": {
     "end_time": "2025-04-29T01:11:30.774025Z",
     "start_time": "2025-04-29T01:11:30.769030Z"
    }
   },
   "cell_type": "code",
   "source": "df[\"income\"].value_counts()",
   "id": "4af4e5f1c4844ff9",
   "outputs": [
    {
     "data": {
      "text/plain": [
       "income\n",
       "<=50K    24720\n",
       ">50K      7841\n",
       "Name: count, dtype: int64"
      ]
     },
     "execution_count": 48,
     "metadata": {},
     "output_type": "execute_result"
    }
   ],
   "execution_count": 48
  },
  {
   "metadata": {},
   "cell_type": "markdown",
   "source": [
    "### Exploratory Plots\n",
    "\n",
    "Below are visuals exploring variables we can typically associate with income levels. "
   ],
   "id": "9bdf4f8303293c2c"
  },
  {
   "metadata": {
    "ExecuteTime": {
     "end_time": "2025-04-29T01:11:31.416628Z",
     "start_time": "2025-04-29T01:11:30.800979Z"
    }
   },
   "cell_type": "code",
   "source": [
    "# Age distribution\n",
    "sns.histplot(data=df, x=\"age\", hue='income', multiple=\"stack\")\n",
    "plt.title('Age Distribution by Income Group')\n",
    "plt.show()\n",
    "\n",
    "# Categorical feature counts\n",
    "sns.countplot(data=df, x=\"education\", hue=\"income\")\n",
    "plt.xticks(rotation=90)\n",
    "plt.title('Education Level by Income Group')\n",
    "plt.show()"
   ],
   "id": "5c3cf1272df1fc2f",
   "outputs": [
    {
     "data": {
      "text/plain": [
       "<Figure size 640x480 with 1 Axes>"
      ],
      "image/png": "[encoded data removed]"
     },
     "metadata": {},
     "output_type": "display_data"
    },
    {
     "data": {
      "text/plain": [
       "<Figure size 640x480 with 1 Axes>"
      ],
      "image/png": "[encoded data removed]"
     },
     "metadata": {},
     "output_type": "display_data"
    }
   ],
   "execution_count": 49
  },
  {
   "metadata": {},
   "cell_type": "markdown",
   "source": [
    "#### Age Distribution by Income Group\n",
    "\n",
    "This plot shows the distribution of ages for individuals grouped by their income level (earning more or less than $50K per year).\n",
    "\n",
    "- Most individuals earning less than \\$50K tend to be younger, between their 20s and early 40s.\n",
    "- Higher income (> \\$50K) becomes more common among individuals aged roughly **30–55**.\n",
    "- After about age 60, both groups decline significantly, likely due to retirement.\n",
    "- Overall, income tends to increase with age up to a certain point, but the number of high earners still remains lower compared to those earning under $50K.\n",
    "\n",
    "This suggests that **age is a useful predictor for income**, but not the only factor — many older individuals still earn under $50K.\n",
    "\n",
    "#### Education Level by Income Group\n",
    "\n",
    "This plot shows how different education levels are associated with income levels.\n",
    "\n",
    "- Individuals with only a **high school diploma (HS-grad)** or **some college education** are far more likely to earn less than \\$50K.\n",
    "- Higher education levels such as **Bachelors**, **Masters**, and **Doctorates** are associated with a **greater proportion of higher income (> \\$50K)**.\n",
    "- However, even at the Bachelors level, many individuals still earn less than $50K, indicating that education alone doesn't guarantee a high salary.\n",
    "- Very low education levels (e.g., 5th-6th grade, 10th grade) are strongly associated with lower income.\n",
    "\n",
    "This suggests that **higher education increases the likelihood of earning more**, but it’s not the only factor — experience, job sector, and other variables may also play important roles, which is to be explored in modeling. \n",
    "\n"
   ],
   "id": "4217c394543bb688"
  },
  {
   "metadata": {},
   "cell_type": "markdown",
   "source": "",
   "id": "d1917d8ac701a171"
  }
 ],
 "metadata": {
  "kernelspec": {
   "display_name": "Python 3",
   "language": "python",
   "name": "python3"
  },
  "language_info": {
   "codemirror_mode": {
    "name": "ipython",
    "version": 2
   },
   "file_extension": ".py",
   "mimetype": "text/x-python",
   "name": "python",
   "nbconvert_exporter": "python",
   "pygments_lexer": "ipython2",
   "version": "2.7.6"
  }
 },
 "nbformat": 4,
 "nbformat_minor": 5
}
