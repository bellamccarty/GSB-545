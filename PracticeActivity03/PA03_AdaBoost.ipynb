{
 "cells": [
  {
   "metadata": {},
   "cell_type": "raw",
   "source": [
    "---\n",
    "title: \"Practice Activity 3 - AdaBoost\"\n",
    "author: \"Isabella McCarty\"\n",
    "format:\n",
    "  html:\n",
    "    toc: true\n",
    "    code-fold: true\n",
    "    theme: pulse\n",
    "    code-line-numbers: true\n",
    "    code-tools: true\n",
    "    self-contained: true\n",
    "execute:\n",
    "  message: false\n",
    "  warning: false\n",
    "---"
   ],
   "id": "75a48c953a0de040"
  },
  {
   "metadata": {},
   "cell_type": "markdown",
   "source": [
    "## Classifying Penguins\n",
    "\n",
    "Please review the following site for information on our dataset of interest here: \n",
    "\n",
    "https://allisonhorst.github.io/palmerpenguins\n",
    "\n",
    "You can find the CSV file here: \n",
    "\n",
    "https://www.kaggle.com/datasets/parulpandey/palmer-archipelago-antarctica-penguin-data\n",
    "\n",
    "This is a very nice, simple dataset with which to apply clustering techniques, classification techniques, or play around with different visualization methods. Your goal is to use the other variables in the measurement characteristics in the dataset to predict (classify) species.\n",
    "\n",
    "### Assignment Specs\n",
    "\n",
    "- You should compare AdaBoost to at least one of the following: a bagging model, a stacking model.\n",
    "- Based on the visualizations seen at the links above you're probably also thinking that this classification task should not be that difficult. So, a secondary goal of this assignment is to test the effects of the AdaBoost function arguments on the algorithm's performance. \n",
    "- You should explore at least 3 different sets of settings for the function inputs, and you should do your best to find values for these inputs that actually change the results of your modelling. That is, try not to run three different sets of inputs that result in the same performance. The goal here is for you to better understand how to set these input values yourself in the future. Comment on what you discover about these inputs and how they behave.\n",
    "-   Your submission should be built and written with non-experts as the target audience. All of your code should still be included, but do your best to narrate your work in accessible ways."
   ],
   "id": "1025b5d08286a76a"
  },
  {
   "metadata": {
    "ExecuteTime": {
     "end_time": "2025-04-19T01:34:11.502539Z",
     "start_time": "2025-04-19T01:34:11.500180Z"
    }
   },
   "cell_type": "code",
   "source": [
    "from palmerpenguins import load_penguins\n",
    "import pandas as pd\n",
    "import numpy as np\n",
    "import random"
   ],
   "id": "6a0068215ddab13c",
   "outputs": [],
   "execution_count": 137
  },
  {
   "metadata": {
    "ExecuteTime": {
     "end_time": "2025-04-19T01:34:11.545616Z",
     "start_time": "2025-04-19T01:34:11.537546Z"
    }
   },
   "cell_type": "code",
   "source": [
    "df = load_penguins()\n",
    "df.head()"
   ],
   "id": "cdc26273e17a855d",
   "outputs": [
    {
     "data": {
      "text/plain": [
       "  species     island  bill_length_mm  bill_depth_mm  flipper_length_mm  \\\n",
       "0  Adelie  Torgersen            39.1           18.7              181.0   \n",
       "1  Adelie  Torgersen            39.5           17.4              186.0   \n",
       "2  Adelie  Torgersen            40.3           18.0              195.0   \n",
       "3  Adelie  Torgersen             NaN            NaN                NaN   \n",
       "4  Adelie  Torgersen            36.7           19.3              193.0   \n",
       "\n",
       "   body_mass_g     sex  year  \n",
       "0       3750.0    male  2007  \n",
       "1       3800.0  female  2007  \n",
       "2       3250.0  female  2007  \n",
       "3          NaN     NaN  2007  \n",
       "4       3450.0  female  2007  "
      ],
      "text/html": [
       "<div>\n",
       "<style scoped>\n",
       "    .dataframe tbody tr th:only-of-type {\n",
       "        vertical-align: middle;\n",
       "    }\n",
       "\n",
       "    .dataframe tbody tr th {\n",
       "        vertical-align: top;\n",
       "    }\n",
       "\n",
       "    .dataframe thead th {\n",
       "        text-align: right;\n",
       "    }\n",
       "</style>\n",
       "<table border=\"1\" class=\"dataframe\">\n",
       "  <thead>\n",
       "    <tr style=\"text-align: right;\">\n",
       "      <th></th>\n",
       "      <th>species</th>\n",
       "      <th>island</th>\n",
       "      <th>bill_length_mm</th>\n",
       "      <th>bill_depth_mm</th>\n",
       "      <th>flipper_length_mm</th>\n",
       "      <th>body_mass_g</th>\n",
       "      <th>sex</th>\n",
       "      <th>year</th>\n",
       "    </tr>\n",
       "  </thead>\n",
       "  <tbody>\n",
       "    <tr>\n",
       "      <th>0</th>\n",
       "      <td>Adelie</td>\n",
       "      <td>Torgersen</td>\n",
       "      <td>39.1</td>\n",
       "      <td>18.7</td>\n",
       "      <td>181.0</td>\n",
       "      <td>3750.0</td>\n",
       "      <td>male</td>\n",
       "      <td>2007</td>\n",
       "    </tr>\n",
       "    <tr>\n",
       "      <th>1</th>\n",
       "      <td>Adelie</td>\n",
       "      <td>Torgersen</td>\n",
       "      <td>39.5</td>\n",
       "      <td>17.4</td>\n",
       "      <td>186.0</td>\n",
       "      <td>3800.0</td>\n",
       "      <td>female</td>\n",
       "      <td>2007</td>\n",
       "    </tr>\n",
       "    <tr>\n",
       "      <th>2</th>\n",
       "      <td>Adelie</td>\n",
       "      <td>Torgersen</td>\n",
       "      <td>40.3</td>\n",
       "      <td>18.0</td>\n",
       "      <td>195.0</td>\n",
       "      <td>3250.0</td>\n",
       "      <td>female</td>\n",
       "      <td>2007</td>\n",
       "    </tr>\n",
       "    <tr>\n",
       "      <th>3</th>\n",
       "      <td>Adelie</td>\n",
       "      <td>Torgersen</td>\n",
       "      <td>NaN</td>\n",
       "      <td>NaN</td>\n",
       "      <td>NaN</td>\n",
       "      <td>NaN</td>\n",
       "      <td>NaN</td>\n",
       "      <td>2007</td>\n",
       "    </tr>\n",
       "    <tr>\n",
       "      <th>4</th>\n",
       "      <td>Adelie</td>\n",
       "      <td>Torgersen</td>\n",
       "      <td>36.7</td>\n",
       "      <td>19.3</td>\n",
       "      <td>193.0</td>\n",
       "      <td>3450.0</td>\n",
       "      <td>female</td>\n",
       "      <td>2007</td>\n",
       "    </tr>\n",
       "  </tbody>\n",
       "</table>\n",
       "</div>"
      ]
     },
     "execution_count": 138,
     "metadata": {},
     "output_type": "execute_result"
    }
   ],
   "execution_count": 138
  },
  {
   "metadata": {
    "ExecuteTime": {
     "end_time": "2025-04-19T01:34:11.658691Z",
     "start_time": "2025-04-19T01:34:11.653677Z"
    }
   },
   "cell_type": "code",
   "source": [
    "df = df.dropna()\n",
    "df[\"species\"].value_counts()"
   ],
   "id": "df6a26671f6e4e52",
   "outputs": [
    {
     "data": {
      "text/plain": [
       "species\n",
       "Adelie       146\n",
       "Gentoo       119\n",
       "Chinstrap     68\n",
       "Name: count, dtype: int64"
      ]
     },
     "execution_count": 139,
     "metadata": {},
     "output_type": "execute_result"
    }
   ],
   "execution_count": 139
  },
  {
   "metadata": {
    "ExecuteTime": {
     "end_time": "2025-04-19T01:34:11.707760Z",
     "start_time": "2025-04-19T01:34:11.704689Z"
    }
   },
   "cell_type": "code",
   "source": "penguins = df.copy()",
   "id": "50e529cdf236398c",
   "outputs": [],
   "execution_count": 140
  },
  {
   "metadata": {},
   "cell_type": "markdown",
   "source": [
    "## Bagging Models\n",
    "\n",
    "In this section, I used bagging with a few different base models:\n",
    "\n",
    "- **K-Nearest Neighbors (KNN)**: a model that predicts a class based on how its nearest neighbors voted. I tested different `k` values (3, 5, 7, 15) to see how local voting strength affects performance, and as sanity check!\n",
    "- **Decision Tree (max_depth=2)**: a very shallow tree that makes simple splits. Bagging helps compensate for its simplicity by combining multiple trees. (also a sanity check)\n",
    "  \n",
    "For each model, I tuned:\n",
    "\n",
    "- `n_estimators`: how many base models to train\n",
    "- `max_samples`: how much of the training set each base model sees\n",
    "\n",
    "Bagging worked especially well with KNN — the best configuration gave me strong test performance. Meanwhile, the shallow decision tree showed how even weak models can benefit from ensemble learning when boosted by bagging."
   ],
   "id": "af1a0c52feb02b0b"
  },
  {
   "metadata": {
    "ExecuteTime": {
     "end_time": "2025-04-19T01:34:14.793294Z",
     "start_time": "2025-04-19T01:34:11.800218Z"
    }
   },
   "cell_type": "code",
   "source": [
    "from sklearn.neighbors import KNeighborsClassifier\n",
    "from sklearn.ensemble import BaggingClassifier\n",
    "from sklearn.pipeline import Pipeline\n",
    "from sklearn.preprocessing import OneHotEncoder, StandardScaler\n",
    "from sklearn.compose import ColumnTransformer\n",
    "from sklearn.model_selection import train_test_split, StratifiedKFold, GridSearchCV\n",
    "from sklearn.metrics import classification_report, ConfusionMatrixDisplay\n",
    "\n",
    "X = penguins.drop(columns=\"species\")\n",
    "y = penguins[\"species\"]\n",
    "\n",
    "# Train/test split\n",
    "X_train, X_test, y_train, y_test = train_test_split(\n",
    "    X, y, stratify=y, test_size=0.3, random_state=123\n",
    ")\n",
    "\n",
    "# Columns\n",
    "categorical_features = ['sex', 'island']\n",
    "numerical_features = X.select_dtypes(include='number').columns.tolist()\n",
    "\n",
    "# ColumnTransformer\n",
    "preprocessor = ColumnTransformer(transformers=[\n",
    "    ('cat', OneHotEncoder(drop='first'), categorical_features),\n",
    "    ('num', StandardScaler(), numerical_features)\n",
    "])\n",
    "\n",
    "knn_base = KNeighborsClassifier()\n",
    "\n",
    "# Full pipeline\n",
    "pipe = Pipeline(steps=[\n",
    "    ('preprocessor', preprocessor),\n",
    "    ('classifier', BaggingClassifier(estimator=knn_base, random_state=123))\n",
    "])\n",
    "\n",
    "# GridSearch\n",
    "param_grid = {\n",
    "    'classifier__n_estimators': [25, 50],\n",
    "    'classifier__max_samples': [0.8],\n",
    "    'classifier__estimator__n_neighbors': [3, 5, 7]\n",
    "}\n",
    "\n",
    "cv = StratifiedKFold(n_splits=5, shuffle=True, random_state=123)\n",
    "\n",
    "grid_search = GridSearchCV(pipe, param_grid, cv=cv, scoring='accuracy', n_jobs=-1)\n",
    "grid_search.fit(X_train, y_train)\n",
    "\n",
    "# Evaluation\n",
    "best_model = grid_search.best_estimator_\n",
    "y_pred = best_model.predict(X_test)\n",
    "\n",
    "print(f\"Best Params: {grid_search.best_params_}\")\n",
    "print(\"\\nClassification Report:\")\n",
    "print(classification_report(y_test, y_pred))\n",
    "ConfusionMatrixDisplay.from_estimator(best_model, X_test, y_test)"
   ],
   "id": "5c5b500431b305eb",
   "outputs": [
    {
     "name": "stdout",
     "output_type": "stream",
     "text": [
      "Best Params: {'classifier__estimator__n_neighbors': 3, 'classifier__max_samples': 0.8, 'classifier__n_estimators': 25}\n",
      "\n",
      "Classification Report:\n",
      "              precision    recall  f1-score   support\n",
      "\n",
      "      Adelie       1.00      0.98      0.99        44\n",
      "   Chinstrap       0.95      1.00      0.98        20\n",
      "      Gentoo       1.00      1.00      1.00        36\n",
      "\n",
      "    accuracy                           0.99       100\n",
      "   macro avg       0.98      0.99      0.99       100\n",
      "weighted avg       0.99      0.99      0.99       100\n",
      "\n"
     ]
    },
    {
     "data": {
      "text/plain": [
       "<sklearn.metrics._plot.confusion_matrix.ConfusionMatrixDisplay at 0x1e92ce7bd40>"
      ]
     },
     "execution_count": 141,
     "metadata": {},
     "output_type": "execute_result"
    },
    {
     "data": {
      "text/plain": [
       "<Figure size 640x480 with 2 Axes>"
      ],
      "image/png": "[encoded data removed]"
     },
     "metadata": {},
     "output_type": "display_data"
    }
   ],
   "execution_count": 141
  },
  {
   "metadata": {},
   "cell_type": "markdown",
   "source": [
    "## Interpreting Bagging Performance and Sanity Checks\n",
    "\n",
    "My best-performing bagging model used **K-Nearest Neighbors with k = 3**, combined with 25 estimators trained on 80% bootstrapped samples each. This setup achieved **99% accuracy** on the test set with near-perfect precision and recall for all three penguin species.\n",
    "\n",
    "While this performance looks amazing, I started to worry it might be too good to be true possibly a sign of overfitting, even though bagging typically reduces variance.\n",
    "\n",
    "To check this, below I run two **sanity checks**:\n",
    "\n",
    "- I increased **`n_neighbors` to 15**, which makes the KNN model more stable and less sensitive to noise. If the model was overfitting before, this should lower the accuracy slightly.\n",
    "- I also tried a **Decision Tree with `max_depth=2`**, a very shallow learner. If bagging truly helps weak learners, this should still perform reasonably well, but with more modest accuracy.\n"
   ],
   "id": "af8d577096b0ba2a"
  },
  {
   "metadata": {
    "ExecuteTime": {
     "end_time": "2025-04-19T01:34:15.119238Z",
     "start_time": "2025-04-19T01:34:14.804301Z"
    }
   },
   "cell_type": "code",
   "source": [
    "knn_base = KNeighborsClassifier(n_neighbors=15)\n",
    "\n",
    "pipe_knn = Pipeline(steps=[\n",
    "    ('preprocessor', preprocessor),\n",
    "    ('classifier', BaggingClassifier(estimator=knn_base, random_state=123))\n",
    "])\n",
    "\n",
    "grid_knn = GridSearchCV(\n",
    "    pipe_knn,\n",
    "    param_grid={\n",
    "        'classifier__n_estimators': [25, 50],\n",
    "        'classifier__max_samples': [0.8, 1.0]\n",
    "    },\n",
    "    cv=StratifiedKFold(n_splits=5, shuffle=True, random_state=123),\n",
    "    scoring='accuracy',\n",
    "    n_jobs=-1\n",
    ")\n",
    "\n",
    "grid_knn.fit(X_train, y_train)\n",
    "knn_best = grid_knn.best_estimator_\n",
    "y_pred_knn = knn_best.predict(X_test)\n",
    "\n",
    "print(f\"[KNN] Best Params: {grid_knn.best_params_}\")\n",
    "print(\"[KNN] Test Classification Report:\")\n",
    "print(classification_report(y_test, y_pred_knn))\n",
    "ConfusionMatrixDisplay.from_estimator(knn_best, X_test, y_test)"
   ],
   "id": "e52d22f4aca56d5d",
   "outputs": [
    {
     "name": "stdout",
     "output_type": "stream",
     "text": [
      "[KNN] Best Params: {'classifier__max_samples': 1.0, 'classifier__n_estimators': 25}\n",
      "[KNN] Test Classification Report:\n",
      "              precision    recall  f1-score   support\n",
      "\n",
      "      Adelie       0.98      1.00      0.99        44\n",
      "   Chinstrap       1.00      0.95      0.97        20\n",
      "      Gentoo       1.00      1.00      1.00        36\n",
      "\n",
      "    accuracy                           0.99       100\n",
      "   macro avg       0.99      0.98      0.99       100\n",
      "weighted avg       0.99      0.99      0.99       100\n",
      "\n"
     ]
    },
    {
     "data": {
      "text/plain": [
       "<sklearn.metrics._plot.confusion_matrix.ConfusionMatrixDisplay at 0x1e92cb51e80>"
      ]
     },
     "execution_count": 142,
     "metadata": {},
     "output_type": "execute_result"
    },
    {
     "data": {
      "text/plain": [
       "<Figure size 640x480 with 2 Axes>"
      ],
      "image/png": "[encoded data removed]"
     },
     "metadata": {},
     "output_type": "display_data"
    }
   ],
   "execution_count": 142
  },
  {
   "metadata": {
    "ExecuteTime": {
     "end_time": "2025-04-19T01:34:15.224599Z",
     "start_time": "2025-04-19T01:34:15.222595Z"
    }
   },
   "cell_type": "code",
   "source": "",
   "id": "cbe8d3b266a9606",
   "outputs": [],
   "execution_count": null
  },
  {
   "metadata": {
    "ExecuteTime": {
     "end_time": "2025-04-19T01:34:15.651869Z",
     "start_time": "2025-04-19T01:34:15.319963Z"
    }
   },
   "cell_type": "code",
   "source": [
    "from sklearn.tree import DecisionTreeClassifier\n",
    "tree_base = DecisionTreeClassifier(max_depth=2, class_weight='balanced', random_state=123)\n",
    "\n",
    "pipe_tree = Pipeline(steps=[\n",
    "    ('preprocessor', preprocessor),\n",
    "    ('classifier', BaggingClassifier(estimator=tree_base, random_state=123))\n",
    "])\n",
    "\n",
    "grid_tree = GridSearchCV(\n",
    "    pipe_tree,\n",
    "    param_grid={\n",
    "        'classifier__n_estimators': [25, 50],\n",
    "        'classifier__max_samples': [0.8, 1.0]\n",
    "    },\n",
    "    cv=StratifiedKFold(n_splits=5, shuffle=True, random_state=123),\n",
    "    scoring='accuracy',\n",
    "    n_jobs=-1\n",
    ")\n",
    "\n",
    "grid_tree.fit(X_train, y_train)\n",
    "tree_best = grid_tree.best_estimator_\n",
    "y_pred_tree = tree_best.predict(X_test)\n",
    "\n",
    "print(f\"[Tree] Best Params: {grid_tree.best_params_}\")\n",
    "print(\"[Tree] Test Classification Report:\")\n",
    "print(classification_report(y_test, y_pred_tree))\n",
    "ConfusionMatrixDisplay.from_estimator(tree_best, X_test, y_test)"
   ],
   "id": "f6bc86813d2bf616",
   "outputs": [
    {
     "name": "stdout",
     "output_type": "stream",
     "text": [
      "[Tree] Best Params: {'classifier__max_samples': 0.8, 'classifier__n_estimators': 50}\n",
      "[Tree] Test Classification Report:\n",
      "              precision    recall  f1-score   support\n",
      "\n",
      "      Adelie       0.97      0.89      0.93        44\n",
      "   Chinstrap       0.83      0.95      0.88        20\n",
      "      Gentoo       0.97      1.00      0.99        36\n",
      "\n",
      "    accuracy                           0.94       100\n",
      "   macro avg       0.92      0.95      0.93       100\n",
      "weighted avg       0.94      0.94      0.94       100\n",
      "\n"
     ]
    },
    {
     "data": {
      "text/plain": [
       "<sklearn.metrics._plot.confusion_matrix.ConfusionMatrixDisplay at 0x1e92c4df440>"
      ]
     },
     "execution_count": 143,
     "metadata": {},
     "output_type": "execute_result"
    },
    {
     "data": {
      "text/plain": [
       "<Figure size 640x480 with 2 Axes>"
      ],
      "image/png": "[encoded data removed]"
     },
     "metadata": {},
     "output_type": "display_data"
    }
   ],
   "execution_count": 143
  },
  {
   "metadata": {},
   "cell_type": "markdown",
   "source": [
    "### KNN with `k = 15` (more stable, less variance-prone)\n",
    "\n",
    "Using a higher `k` value smooths out the model’s decision boundary, making it less reactive to noise. The performance held steady at **99% accuracy**, but with slightly shifted precision and recall:\n",
    "\n",
    "- Chinstrap precision rose to 1.00 but recall dropped slightly to 0.95\n",
    "- Overall performance remained strong, suggesting the model was stable.\n",
    "\n",
    "### Decision Tree with `max_depth = 2` (very weak base learner)\n",
    "\n",
    "A tree this shallow can only make very simple decisions. Bagging it with 50 estimators (80% subsampling) still led to:\n",
    "\n",
    "- **94% accuracy**\n",
    "- Especially strong performance on Gentoo (97–100%)\n",
    "- A bit of a trade-off for Adelie (recall dropped to 0.89)"
   ],
   "id": "ade42c86fe635717"
  },
  {
   "metadata": {},
   "cell_type": "markdown",
   "source": [
    "## AdaBoost\n",
    "\n",
    "In this section, I used AdaBoost, the method that builds multiple simple models in a sequence,\n",
    "where each new model focuses on the mistakes of the previous one. The key settings that control\n",
    "how this process works are:\n",
    "- **`n_estimators`**: how many rounds of boosting to do\n",
    "- **`learning_rate`**: how much each new model contributes to the final prediction\n",
    "\n",
    "The idea is to find the right balance: a small learning rate needs more estimators, and a high learning rate may need fewer estimators to converge.\n",
    "\n",
    "After testing 12 combinations, I found that **higher learning rates (0.75 and 1.0)** generally performed better, and **performance improved with more estimators**, up to a point. These patterns were reflected in both my cross-validation scores and test set accuracy.\n",
    "\n",
    "I visualized the cross-validation results below to help illustrate how model performance changes based on these settings."
   ],
   "id": "20591f7d9fe1a969"
  },
  {
   "metadata": {
    "ExecuteTime": {
     "end_time": "2025-04-19T01:34:17.351363Z",
     "start_time": "2025-04-19T01:34:15.747587Z"
    }
   },
   "cell_type": "code",
   "source": [
    "from sklearn.ensemble import AdaBoostClassifier\n",
    "from sklearn.tree import DecisionTreeClassifier\n",
    "from sklearn.pipeline import Pipeline\n",
    "from sklearn.model_selection import GridSearchCV, StratifiedKFold\n",
    "from sklearn.metrics import classification_report, ConfusionMatrixDisplay\n",
    "\n",
    "# Base estimator for AdaBoost (from Sci-Kit Learn's Docu)\n",
    "base_tree = DecisionTreeClassifier(max_depth=1, class_weight='balanced', random_state=123)\n",
    "\n",
    "# Pipeline\n",
    "ada_pipe = Pipeline(steps=[\n",
    "    ('preprocessor', preprocessor),\n",
    "    ('classifier', AdaBoostClassifier(estimator=base_tree, random_state=123))\n",
    "])\n",
    "\n",
    "# Grid Search\n",
    "ada_param_grid = {\n",
    "    'classifier__n_estimators': [25, 50, 100, 200],\n",
    "    'classifier__learning_rate': [0.1, 0.5, 0.75, 1.0]\n",
    "}\n",
    "\n",
    "# Cross-validation strategy\n",
    "cv = StratifiedKFold(n_splits=5, shuffle=True, random_state=123)\n",
    "\n",
    "# Grid search\n",
    "ada_grid = GridSearchCV(\n",
    "    ada_pipe,\n",
    "    param_grid=ada_param_grid,\n",
    "    cv=cv,\n",
    "    scoring='accuracy',\n",
    "    n_jobs=-1\n",
    ")\n",
    "\n",
    "# Fit model\n",
    "ada_grid.fit(X_train, y_train)\n",
    "\n",
    "# Evaluate\n",
    "best_ada = ada_grid.best_estimator_\n",
    "y_pred_ada = best_ada.predict(X_test)\n",
    "\n",
    "print(f\"[AdaBoost] Best Params: {ada_grid.best_params_}\")\n",
    "print(\"[AdaBoost] Test Classification Report:\")\n",
    "print(classification_report(y_test, y_pred_ada))\n",
    "ConfusionMatrixDisplay.from_estimator(best_ada, X_test, y_test)"
   ],
   "id": "c101dba6c4c0df7e",
   "outputs": [
    {
     "name": "stdout",
     "output_type": "stream",
     "text": [
      "[AdaBoost] Best Params: {'classifier__learning_rate': 0.75, 'classifier__n_estimators': 200}\n",
      "[AdaBoost] Test Classification Report:\n",
      "              precision    recall  f1-score   support\n",
      "\n",
      "      Adelie       0.95      0.95      0.95        44\n",
      "   Chinstrap       0.95      0.90      0.92        20\n",
      "      Gentoo       0.97      1.00      0.99        36\n",
      "\n",
      "    accuracy                           0.96       100\n",
      "   macro avg       0.96      0.95      0.95       100\n",
      "weighted avg       0.96      0.96      0.96       100\n",
      "\n"
     ]
    },
    {
     "data": {
      "text/plain": [
       "<sklearn.metrics._plot.confusion_matrix.ConfusionMatrixDisplay at 0x1e92cabc410>"
      ]
     },
     "execution_count": 144,
     "metadata": {},
     "output_type": "execute_result"
    },
    {
     "data": {
      "text/plain": [
       "<Figure size 640x480 with 2 Axes>"
      ],
      "image/png": "[encoded data removed]"
     },
     "metadata": {},
     "output_type": "display_data"
    }
   ],
   "execution_count": 144
  },
  {
   "metadata": {
    "ExecuteTime": {
     "end_time": "2025-04-19T01:34:17.449929Z",
     "start_time": "2025-04-19T01:34:17.442930Z"
    }
   },
   "cell_type": "code",
   "source": [
    "results = pd.DataFrame(ada_grid.cv_results_)\n",
    "results = results.sort_values(by='mean_test_score', ascending=False)\n",
    "results[['param_classifier__n_estimators', 'param_classifier__learning_rate', 'mean_test_score']]"
   ],
   "id": "d9acb90ff77e8ff4",
   "outputs": [
    {
     "data": {
      "text/plain": [
       "    param_classifier__n_estimators  param_classifier__learning_rate  \\\n",
       "15                             200                             1.00   \n",
       "14                             100                             1.00   \n",
       "11                             200                             0.75   \n",
       "6                              100                             0.50   \n",
       "9                               50                             0.75   \n",
       "10                             100                             0.75   \n",
       "7                              200                             0.50   \n",
       "13                              50                             1.00   \n",
       "5                               50                             0.50   \n",
       "3                              200                             0.10   \n",
       "8                               25                             0.75   \n",
       "12                              25                             1.00   \n",
       "4                               25                             0.50   \n",
       "2                              100                             0.10   \n",
       "1                               50                             0.10   \n",
       "0                               25                             0.10   \n",
       "\n",
       "    mean_test_score  \n",
       "15         0.982979  \n",
       "14         0.982979  \n",
       "11         0.982979  \n",
       "6          0.978723  \n",
       "9          0.978723  \n",
       "10         0.978723  \n",
       "7          0.978631  \n",
       "13         0.974376  \n",
       "5          0.970120  \n",
       "3          0.970120  \n",
       "8          0.970120  \n",
       "12         0.970120  \n",
       "4          0.965772  \n",
       "2          0.965772  \n",
       "1          0.918594  \n",
       "0          0.910083  "
      ],
      "text/html": [
       "<div>\n",
       "<style scoped>\n",
       "    .dataframe tbody tr th:only-of-type {\n",
       "        vertical-align: middle;\n",
       "    }\n",
       "\n",
       "    .dataframe tbody tr th {\n",
       "        vertical-align: top;\n",
       "    }\n",
       "\n",
       "    .dataframe thead th {\n",
       "        text-align: right;\n",
       "    }\n",
       "</style>\n",
       "<table border=\"1\" class=\"dataframe\">\n",
       "  <thead>\n",
       "    <tr style=\"text-align: right;\">\n",
       "      <th></th>\n",
       "      <th>param_classifier__n_estimators</th>\n",
       "      <th>param_classifier__learning_rate</th>\n",
       "      <th>mean_test_score</th>\n",
       "    </tr>\n",
       "  </thead>\n",
       "  <tbody>\n",
       "    <tr>\n",
       "      <th>15</th>\n",
       "      <td>200</td>\n",
       "      <td>1.00</td>\n",
       "      <td>0.982979</td>\n",
       "    </tr>\n",
       "    <tr>\n",
       "      <th>14</th>\n",
       "      <td>100</td>\n",
       "      <td>1.00</td>\n",
       "      <td>0.982979</td>\n",
       "    </tr>\n",
       "    <tr>\n",
       "      <th>11</th>\n",
       "      <td>200</td>\n",
       "      <td>0.75</td>\n",
       "      <td>0.982979</td>\n",
       "    </tr>\n",
       "    <tr>\n",
       "      <th>6</th>\n",
       "      <td>100</td>\n",
       "      <td>0.50</td>\n",
       "      <td>0.978723</td>\n",
       "    </tr>\n",
       "    <tr>\n",
       "      <th>9</th>\n",
       "      <td>50</td>\n",
       "      <td>0.75</td>\n",
       "      <td>0.978723</td>\n",
       "    </tr>\n",
       "    <tr>\n",
       "      <th>10</th>\n",
       "      <td>100</td>\n",
       "      <td>0.75</td>\n",
       "      <td>0.978723</td>\n",
       "    </tr>\n",
       "    <tr>\n",
       "      <th>7</th>\n",
       "      <td>200</td>\n",
       "      <td>0.50</td>\n",
       "      <td>0.978631</td>\n",
       "    </tr>\n",
       "    <tr>\n",
       "      <th>13</th>\n",
       "      <td>50</td>\n",
       "      <td>1.00</td>\n",
       "      <td>0.974376</td>\n",
       "    </tr>\n",
       "    <tr>\n",
       "      <th>5</th>\n",
       "      <td>50</td>\n",
       "      <td>0.50</td>\n",
       "      <td>0.970120</td>\n",
       "    </tr>\n",
       "    <tr>\n",
       "      <th>3</th>\n",
       "      <td>200</td>\n",
       "      <td>0.10</td>\n",
       "      <td>0.970120</td>\n",
       "    </tr>\n",
       "    <tr>\n",
       "      <th>8</th>\n",
       "      <td>25</td>\n",
       "      <td>0.75</td>\n",
       "      <td>0.970120</td>\n",
       "    </tr>\n",
       "    <tr>\n",
       "      <th>12</th>\n",
       "      <td>25</td>\n",
       "      <td>1.00</td>\n",
       "      <td>0.970120</td>\n",
       "    </tr>\n",
       "    <tr>\n",
       "      <th>4</th>\n",
       "      <td>25</td>\n",
       "      <td>0.50</td>\n",
       "      <td>0.965772</td>\n",
       "    </tr>\n",
       "    <tr>\n",
       "      <th>2</th>\n",
       "      <td>100</td>\n",
       "      <td>0.10</td>\n",
       "      <td>0.965772</td>\n",
       "    </tr>\n",
       "    <tr>\n",
       "      <th>1</th>\n",
       "      <td>50</td>\n",
       "      <td>0.10</td>\n",
       "      <td>0.918594</td>\n",
       "    </tr>\n",
       "    <tr>\n",
       "      <th>0</th>\n",
       "      <td>25</td>\n",
       "      <td>0.10</td>\n",
       "      <td>0.910083</td>\n",
       "    </tr>\n",
       "  </tbody>\n",
       "</table>\n",
       "</div>"
      ]
     },
     "execution_count": 145,
     "metadata": {},
     "output_type": "execute_result"
    }
   ],
   "execution_count": 145
  },
  {
   "metadata": {
    "ExecuteTime": {
     "end_time": "2025-04-19T01:34:17.699931Z",
     "start_time": "2025-04-19T01:34:17.558919Z"
    }
   },
   "cell_type": "code",
   "source": [
    "import seaborn as sns\n",
    "import matplotlib.pyplot as plt\n",
    "\n",
    "sns.lineplot(\n",
    "    data=results,\n",
    "    x='param_classifier__n_estimators',\n",
    "    y='mean_test_score',\n",
    "    hue='param_classifier__learning_rate',\n",
    "    marker='o'\n",
    ")\n",
    "plt.title(\"CV Accuracy Across AdaBoost Settings\")\n",
    "plt.ylabel(\"Mean CV Accuracy\")\n",
    "plt.xlabel(\"Number of Estimators\")\n",
    "plt.legend(title='Learning Rate')\n",
    "plt.tight_layout()"
   ],
   "id": "85a31f5cd8a04865",
   "outputs": [
    {
     "data": {
      "text/plain": [
       "<Figure size 640x480 with 1 Axes>"
      ],
      "image/png": "[encoded data removed]"
     },
     "metadata": {},
     "output_type": "display_data"
    }
   ],
   "execution_count": 146
  },
  {
   "metadata": {},
   "cell_type": "markdown",
   "source": [
    "### How AdaBoost Settings Affect Accuracy\n",
    "\n",
    "#### Comparing AdaBoost Settings: Number of Estimators vs Learning Rate\n",
    "\n",
    "This chart shows how AdaBoost model accuracy changes depending on two important settings:\n",
    "\n",
    "- **Number of Estimators**: How many \"weak learners\" (small models) the boosting process includes.\n",
    "- **Learning Rate**: Controls how strongly each new learner corrects previous errors. A lower value means slower but steadier learning.\n",
    "\n",
    "#### Key Takeaways:\n",
    "- A learning rate of 1.0 consistently performs the best, especially when paired with a higher number of estimators.\n",
    "- Learning rate = 0.1 starts off poorly, but catches up as the number of estimators increases — suggesting it needs more boosting rounds to learn effectively.\n",
    "- There's a point of diminishing returns: after ~100 estimators, accuracy gains flatten out.\n",
    "- This clearly shows that hyperparameter tuning matters — the right combo can improve model accuracy by several percentage points.\n",
    "\n"
   ],
   "id": "506390b1ef813edc"
  },
  {
   "metadata": {},
   "cell_type": "markdown",
   "source": [
    "## Final Comparison: Bagging vs Boosting\n",
    "\n",
    "Both Bagging and Boosting are powerful ensemble methods, but they approach learning very differently:\n",
    "\n",
    "- Bagging (Bootstrap Aggregating) trains many models in parallel on random subsets of the data and then averages their predictions. It helps reduce variance and prevents overfitting, especially when using models like KNN or decision trees.\n",
    "- Boosting trains models sequentially, where each model focuses on fixing the mistakes made by the ones before it. This often leads to lower bias and improved overall performance, but it can be more sensitive to noise and parameter settings.\n",
    "\n",
    "### Summary of What I Observed\n",
    "\n",
    "| Model                    | Accuracy | Notes                                                                |\n",
    "|--------------------------|----------|----------------------------------------------------------------------|\n",
    "| **Bagged KNN (`k=3`)**   | 99%      | Excellent, 'too good' performance, slightly improved with smaller `k` |\n",
    "| **Bagged KNN (`k=15`)**  | 99%      | Still high, but more stable (less variance-sensitive)                |\n",
    "| **Bagged Tree (depth=2)**| 94%      | Solid for a very simple model, but with lower ceiling                |\n",
    "| **AdaBoost (best params)**| ~98–99% | High accuracy with fewer estimators; learning rate mattered most     |\n",
    "\n",
    "### Key Takeaways\n",
    "\n",
    "While both methods gave strong results on the Palmer Penguins dataset, I found that:\n",
    "\n",
    "- Bagging worked especially well with KNN, taking advantage of its instability while stabilizing predictions across bootstraps.\n",
    "- Boosting was more sensitive to hyperparameters, but when tuned properly, it performed just as well or even slightly better with fewer estimators."
   ],
   "id": "ec3ad29b622b5f3b"
  },
  {
   "metadata": {},
   "cell_type": "code",
   "outputs": [],
   "execution_count": null,
   "source": "",
   "id": "8314f6d789cd90fb"
  }
 ],
 "metadata": {
  "kernelspec": {
   "display_name": "Python 3",
   "language": "python",
   "name": "python3"
  },
  "language_info": {
   "codemirror_mode": {
    "name": "ipython",
    "version": 2
   },
   "file_extension": ".py",
   "mimetype": "text/x-python",
   "name": "python",
   "nbconvert_exporter": "python",
   "pygments_lexer": "ipython2",
   "version": "2.7.6"
  }
 },
 "nbformat": 4,
 "nbformat_minor": 5
}
