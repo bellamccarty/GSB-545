{
 "cells": [
  {
   "metadata": {},
   "cell_type": "raw",
   "source": [
    "---\n",
    "title: \"Lab 2: Boosting\"\n",
    "author: \"Isabella McCarty\"\n",
    "format:\n",
    "  html:\n",
    "    toc: true\n",
    "    code-fold: true\n",
    "    theme: pulse\n",
    "    code-line-numbers: true\n",
    "    code-tools: true\n",
    "    self-contained: true\n",
    "execute:\n",
    "  message: false\n",
    "  warning: false\n",
    "---"
   ],
   "id": "61a650506f28fc7e"
  },
  {
   "metadata": {},
   "cell_type": "markdown",
   "source": [
    "# Predicting Heart Disease\n",
    "\n",
    "In this lab I'll be using a dataset from Kaggle yet again... it's just so fun and rich! I're using publicly available data from the Centers for Disease Control and Prevention (CDC), and in particular the Behavioral Risk Factor Surveillance System (BRFSS).\n",
    "\n",
    "**DATASET:** [CLICK HERE](https://www.kaggle.com/datasets/kamilpytlak/personal-key-indicators-of-heart-disease)\n",
    "\n",
    "---\n",
    "\n",
    "## Primary Goals:\n",
    "\n",
    "- Predict heart disease.\n",
    "- One of the questions posted on the Kaggle page is, *\"Can you indicate which variables have a significant effect on the likelihood of heart disease?\"* So, if your work allows you to comment on this question then please do!\n",
    "\n",
    "---\n",
    "\n",
    "## Assignment Specs:\n",
    "\n",
    "- You need to use at least one boosting model in your work to answer the questions above, but you should explore at least two other models in order to answer the above questions as best you can. You may use multiple boosting models if you like, but I'd encourage you to consider past model types I've discussed.\n",
    "\n",
    "- The Kaggle page indicates that the classes are extremely unbalanced in this dataset. You should keep this in mind as you work and if appropriate, take steps to adjust for it. You may need to look up how to adjust for this yourself, but I could probably make some suggestions... as a starting place check out under- and oversampling ideas described here:  \n",
    "  [https://machinelearningmastery.com/tactics-to-combat-imbalanced-classes-in-your-machine-learning-dataset/](https://machinelearningmastery.com/tactics-to-combat-imbalanced-classes-in-your-machine-learning-dataset/)\n",
    "\n",
    "- Your submission should be built and written with non-experts as the target audience. All of your code should still be included, but do your best to narrate your work in accessible ways.\n",
    "\n",
    "- Again, submit an HTML, ipynb, or Colab link. Be sure to rerun your entire notebook fresh before submitting!\n"
   ],
   "id": "c84789744e14a678"
  },
  {
   "metadata": {
    "ExecuteTime": {
     "end_time": "2025-04-22T03:15:04.627390Z",
     "start_time": "2025-04-22T03:15:04.625078Z"
    }
   },
   "cell_type": "code",
   "source": [
    "import pandas as pd\n",
    "import numpy as np"
   ],
   "id": "dc6054e9a5ad175b",
   "outputs": [],
   "execution_count": 1
  },
  {
   "metadata": {},
   "cell_type": "markdown",
   "source": [
    "## The Data\n",
    "\n",
    "There are two datasets to choose from for this project, both sourced from the CDC’s Behavioral Risk Factor Surveillance System (BRFSS). The first, `heart_2022_no_nans.csv`, is a cleaned version of more recent BRFSS data and focuses on predicting whether a person has had a **heart attack**. The second, `heart_2020_cleaned.csv`, uses slightly older data but centers on the broader question of whether an individual has **heart disease**. Since the goal of this assignment is to predict heart disease, not just heart attacks, I'm using the 2020 dataset (`heart_2020_cleaned.csv`) as it aligns more closely with the target outcome.\n"
   ],
   "id": "b58f32ff72432cf6"
  },
  {
   "metadata": {
    "ExecuteTime": {
     "end_time": "2025-04-22T03:15:04.986915Z",
     "start_time": "2025-04-22T03:15:04.668401Z"
    }
   },
   "cell_type": "code",
   "source": [
    "df = pd.read_csv(\"Data/heart_2020_cleaned.csv\")\n",
    "df.head()"
   ],
   "id": "f347930c6fa68aaa",
   "outputs": [
    {
     "data": {
      "text/plain": [
       "  HeartDisease    BMI Smoking AlcoholDrinking Stroke  PhysicalHealth  \\\n",
       "0           No  16.60     Yes              No     No             3.0   \n",
       "1           No  20.34      No              No    Yes             0.0   \n",
       "2           No  26.58     Yes              No     No            20.0   \n",
       "3           No  24.21      No              No     No             0.0   \n",
       "4           No  23.71      No              No     No            28.0   \n",
       "\n",
       "   MentalHealth DiffWalking     Sex  AgeCategory   Race Diabetic  \\\n",
       "0          30.0          No  Female        55-59  White      Yes   \n",
       "1           0.0          No  Female  80 or older  White       No   \n",
       "2          30.0          No    Male        65-69  White      Yes   \n",
       "3           0.0          No  Female        75-79  White       No   \n",
       "4           0.0         Yes  Female        40-44  White       No   \n",
       "\n",
       "  PhysicalActivity  GenHealth  SleepTime Asthma KidneyDisease SkinCancer  \n",
       "0              Yes  Very good        5.0    Yes            No        Yes  \n",
       "1              Yes  Very good        7.0     No            No         No  \n",
       "2              Yes       Fair        8.0    Yes            No         No  \n",
       "3               No       Good        6.0     No            No        Yes  \n",
       "4              Yes  Very good        8.0     No            No         No  "
      ],
      "text/html": [
       "<div>\n",
       "<style scoped>\n",
       "    .dataframe tbody tr th:only-of-type {\n",
       "        vertical-align: middle;\n",
       "    }\n",
       "\n",
       "    .dataframe tbody tr th {\n",
       "        vertical-align: top;\n",
       "    }\n",
       "\n",
       "    .dataframe thead th {\n",
       "        text-align: right;\n",
       "    }\n",
       "</style>\n",
       "<table border=\"1\" class=\"dataframe\">\n",
       "  <thead>\n",
       "    <tr style=\"text-align: right;\">\n",
       "      <th></th>\n",
       "      <th>HeartDisease</th>\n",
       "      <th>BMI</th>\n",
       "      <th>Smoking</th>\n",
       "      <th>AlcoholDrinking</th>\n",
       "      <th>Stroke</th>\n",
       "      <th>PhysicalHealth</th>\n",
       "      <th>MentalHealth</th>\n",
       "      <th>DiffWalking</th>\n",
       "      <th>Sex</th>\n",
       "      <th>AgeCategory</th>\n",
       "      <th>Race</th>\n",
       "      <th>Diabetic</th>\n",
       "      <th>PhysicalActivity</th>\n",
       "      <th>GenHealth</th>\n",
       "      <th>SleepTime</th>\n",
       "      <th>Asthma</th>\n",
       "      <th>KidneyDisease</th>\n",
       "      <th>SkinCancer</th>\n",
       "    </tr>\n",
       "  </thead>\n",
       "  <tbody>\n",
       "    <tr>\n",
       "      <th>0</th>\n",
       "      <td>No</td>\n",
       "      <td>16.60</td>\n",
       "      <td>Yes</td>\n",
       "      <td>No</td>\n",
       "      <td>No</td>\n",
       "      <td>3.0</td>\n",
       "      <td>30.0</td>\n",
       "      <td>No</td>\n",
       "      <td>Female</td>\n",
       "      <td>55-59</td>\n",
       "      <td>White</td>\n",
       "      <td>Yes</td>\n",
       "      <td>Yes</td>\n",
       "      <td>Very good</td>\n",
       "      <td>5.0</td>\n",
       "      <td>Yes</td>\n",
       "      <td>No</td>\n",
       "      <td>Yes</td>\n",
       "    </tr>\n",
       "    <tr>\n",
       "      <th>1</th>\n",
       "      <td>No</td>\n",
       "      <td>20.34</td>\n",
       "      <td>No</td>\n",
       "      <td>No</td>\n",
       "      <td>Yes</td>\n",
       "      <td>0.0</td>\n",
       "      <td>0.0</td>\n",
       "      <td>No</td>\n",
       "      <td>Female</td>\n",
       "      <td>80 or older</td>\n",
       "      <td>White</td>\n",
       "      <td>No</td>\n",
       "      <td>Yes</td>\n",
       "      <td>Very good</td>\n",
       "      <td>7.0</td>\n",
       "      <td>No</td>\n",
       "      <td>No</td>\n",
       "      <td>No</td>\n",
       "    </tr>\n",
       "    <tr>\n",
       "      <th>2</th>\n",
       "      <td>No</td>\n",
       "      <td>26.58</td>\n",
       "      <td>Yes</td>\n",
       "      <td>No</td>\n",
       "      <td>No</td>\n",
       "      <td>20.0</td>\n",
       "      <td>30.0</td>\n",
       "      <td>No</td>\n",
       "      <td>Male</td>\n",
       "      <td>65-69</td>\n",
       "      <td>White</td>\n",
       "      <td>Yes</td>\n",
       "      <td>Yes</td>\n",
       "      <td>Fair</td>\n",
       "      <td>8.0</td>\n",
       "      <td>Yes</td>\n",
       "      <td>No</td>\n",
       "      <td>No</td>\n",
       "    </tr>\n",
       "    <tr>\n",
       "      <th>3</th>\n",
       "      <td>No</td>\n",
       "      <td>24.21</td>\n",
       "      <td>No</td>\n",
       "      <td>No</td>\n",
       "      <td>No</td>\n",
       "      <td>0.0</td>\n",
       "      <td>0.0</td>\n",
       "      <td>No</td>\n",
       "      <td>Female</td>\n",
       "      <td>75-79</td>\n",
       "      <td>White</td>\n",
       "      <td>No</td>\n",
       "      <td>No</td>\n",
       "      <td>Good</td>\n",
       "      <td>6.0</td>\n",
       "      <td>No</td>\n",
       "      <td>No</td>\n",
       "      <td>Yes</td>\n",
       "    </tr>\n",
       "    <tr>\n",
       "      <th>4</th>\n",
       "      <td>No</td>\n",
       "      <td>23.71</td>\n",
       "      <td>No</td>\n",
       "      <td>No</td>\n",
       "      <td>No</td>\n",
       "      <td>28.0</td>\n",
       "      <td>0.0</td>\n",
       "      <td>Yes</td>\n",
       "      <td>Female</td>\n",
       "      <td>40-44</td>\n",
       "      <td>White</td>\n",
       "      <td>No</td>\n",
       "      <td>Yes</td>\n",
       "      <td>Very good</td>\n",
       "      <td>8.0</td>\n",
       "      <td>No</td>\n",
       "      <td>No</td>\n",
       "      <td>No</td>\n",
       "    </tr>\n",
       "  </tbody>\n",
       "</table>\n",
       "</div>"
      ]
     },
     "execution_count": 2,
     "metadata": {},
     "output_type": "execute_result"
    }
   ],
   "execution_count": 2
  },
  {
   "metadata": {
    "ExecuteTime": {
     "end_time": "2025-04-22T03:15:05.255555Z",
     "start_time": "2025-04-22T03:15:05.153660Z"
    }
   },
   "cell_type": "code",
   "source": [
    "# Quick summary\n",
    "df.info()\n",
    "\n",
    "# Check class balance\n",
    "df['HeartDisease'].value_counts(normalize=True)"
   ],
   "id": "1de1aff66b0152c4",
   "outputs": [
    {
     "name": "stdout",
     "output_type": "stream",
     "text": [
      "<class 'pandas.core.frame.DataFrame'>\n",
      "RangeIndex: 319795 entries, 0 to 319794\n",
      "Data columns (total 18 columns):\n",
      " #   Column            Non-Null Count   Dtype  \n",
      "---  ------            --------------   -----  \n",
      " 0   HeartDisease      319795 non-null  object \n",
      " 1   BMI               319795 non-null  float64\n",
      " 2   Smoking           319795 non-null  object \n",
      " 3   AlcoholDrinking   319795 non-null  object \n",
      " 4   Stroke            319795 non-null  object \n",
      " 5   PhysicalHealth    319795 non-null  float64\n",
      " 6   MentalHealth      319795 non-null  float64\n",
      " 7   DiffWalking       319795 non-null  object \n",
      " 8   Sex               319795 non-null  object \n",
      " 9   AgeCategory       319795 non-null  object \n",
      " 10  Race              319795 non-null  object \n",
      " 11  Diabetic          319795 non-null  object \n",
      " 12  PhysicalActivity  319795 non-null  object \n",
      " 13  GenHealth         319795 non-null  object \n",
      " 14  SleepTime         319795 non-null  float64\n",
      " 15  Asthma            319795 non-null  object \n",
      " 16  KidneyDisease     319795 non-null  object \n",
      " 17  SkinCancer        319795 non-null  object \n",
      "dtypes: float64(4), object(14)\n",
      "memory usage: 43.9+ MB\n"
     ]
    },
    {
     "data": {
      "text/plain": [
       "HeartDisease\n",
       "No     0.914405\n",
       "Yes    0.085595\n",
       "Name: proportion, dtype: float64"
      ]
     },
     "execution_count": 3,
     "metadata": {},
     "output_type": "execute_result"
    }
   ],
   "execution_count": 3
  },
  {
   "metadata": {},
   "cell_type": "markdown",
   "source": "The target variable HeartDisease is unbalanced — the majority class is 'No'. This means the models could default to predicting 'No' unless I handle the imbalance.",
   "id": "54de947c9034f7"
  },
  {
   "metadata": {},
   "cell_type": "markdown",
   "source": "## Modeling",
   "id": "a12042d38eefb544"
  },
  {
   "metadata": {},
   "cell_type": "markdown",
   "source": [
    "### Preprocessing with Pipelines\n",
    "\n",
    " The code below performs the preprocessing steps needed for modeling using OneHotEncoder for categorical variables and StandardScaler for numeric ones, all wrapped in a Pipeline."
   ],
   "id": "9b8bb1d92b0a2f26"
  },
  {
   "metadata": {
    "ExecuteTime": {
     "end_time": "2025-04-22T03:15:05.880150Z",
     "start_time": "2025-04-22T03:15:05.368324Z"
    }
   },
   "cell_type": "code",
   "source": [
    "from sklearn.compose import ColumnTransformer\n",
    "from sklearn.pipeline import Pipeline\n",
    "from sklearn.preprocessing import OneHotEncoder, StandardScaler\n",
    "from sklearn.model_selection import train_test_split\n",
    "from sklearn.impute import SimpleImputer\n",
    "\n",
    "# Separate target and features\n",
    "X = df.drop(columns=\"HeartDisease\")\n",
    "y = df[\"HeartDisease\"].apply(lambda x: 1 if x == \"Yes\" else 0)\n",
    "\n",
    "# Identify column types\n",
    "categorical_cols = X.select_dtypes(include=\"object\").columns\n",
    "numeric_cols = X.select_dtypes(exclude=\"object\").columns\n",
    "\n",
    "# Preprocessing for numeric data\n",
    "numeric_transformer = Pipeline(steps=[\n",
    "    (\"imputer\", SimpleImputer(strategy=\"mean\")),\n",
    "    (\"scaler\", StandardScaler())\n",
    "])\n",
    "\n",
    "# Preprocessing for categorical data\n",
    "categorical_transformer = Pipeline(steps=[\n",
    "    (\"imputer\", SimpleImputer(strategy=\"most_frequent\")),\n",
    "    (\"onehot\", OneHotEncoder(handle_unknown=\"ignore\"))\n",
    "])\n",
    "\n",
    "# Combine transformers\n",
    "preprocessor = ColumnTransformer(\n",
    "    transformers=[\n",
    "        (\"num\", numeric_transformer, numeric_cols),\n",
    "        (\"cat\", categorical_transformer, categorical_cols)\n",
    "    ]\n",
    ")\n",
    "\n",
    "# Train-test split with stratification\n",
    "X_train, X_test, y_train, y_test = train_test_split(\n",
    "    X, y, stratify=y, test_size=0.2, random_state=123\n",
    ")"
   ],
   "id": "2b361b097a3de082",
   "outputs": [],
   "execution_count": 4
  },
  {
   "metadata": {},
   "cell_type": "markdown",
   "source": [
    "### AdaBoost Classifier\n",
    "\n",
    "AdaBoost is a boosting technique that improves accuracy by focusing on misclassified observations and combining many weak learners. It’s particularly useful when working with imbalanced datasets like this one because it repeatedly shifts attention to the harder-to-predict cases.\n",
    "\n",
    "To improve upon the basic AdaBoost model, I used a technique called grid search to test multiple combinations of settings — including the number of boosting rounds and how fast the model should learn (learning_rate). I also used cross-validation to make sure the model works well across different subsets of the data.\n"
   ],
   "id": "84eb359f565af9a6"
  },
  {
   "metadata": {
    "ExecuteTime": {
     "end_time": "2025-04-22T03:15:52.081611Z",
     "start_time": "2025-04-22T03:15:05.965272Z"
    }
   },
   "cell_type": "code",
   "source": [
    "from sklearn.tree import DecisionTreeClassifier\n",
    "from sklearn.ensemble import AdaBoostClassifier\n",
    "from sklearn.pipeline import Pipeline\n",
    "from sklearn.model_selection import GridSearchCV, StratifiedKFold\n",
    "from sklearn.metrics import classification_report\n",
    "\n",
    "# Base estimator: shallow tree with balanced class weights\n",
    "base_tree = DecisionTreeClassifier(max_depth=2, class_weight='balanced', random_state=123)\n",
    "\n",
    "# AdaBoost pipeline\n",
    "ada_pipe = Pipeline(steps=[\n",
    "    ('preprocessor', preprocessor),\n",
    "    ('classifier', AdaBoostClassifier(estimator=base_tree, random_state=123))\n",
    "])\n",
    "\n",
    "# Hyperparameter grid\n",
    "ada_param_grid = {\n",
    "    'classifier__n_estimators': [25, 50, 100, 200],\n",
    "    'classifier__learning_rate': [0.1, 0.5, 0.75, 1.0]\n",
    "}\n",
    "\n",
    "# Cross-validation strategy\n",
    "cv = StratifiedKFold(n_splits=5, shuffle=True, random_state=123)\n",
    "\n",
    "# Grid search with cross-validation\n",
    "ada_grid = GridSearchCV(\n",
    "    ada_pipe,\n",
    "    param_grid=ada_param_grid,\n",
    "    cv=cv,\n",
    "    scoring='accuracy',\n",
    "    n_jobs=-1\n",
    ")\n",
    "\n",
    "# Fit model\n",
    "ada_grid.fit(X_train, y_train)\n",
    "\n",
    "# Best model\n",
    "best_ada = ada_grid.best_estimator_\n",
    "y_pred_ada = best_ada.predict(X_test)\n",
    "\n",
    "# Results\n",
    "print(f\"[AdaBoost] Best Params: {ada_grid.best_params_}\")\n",
    "print(\"[AdaBoost] Test Classification Report:\")\n",
    "print(classification_report(y_test, y_pred_ada))"
   ],
   "id": "65fb713bb641dc2f",
   "outputs": [
    {
     "name": "stdout",
     "output_type": "stream",
     "text": [
      "[AdaBoost] Best Params: {'classifier__learning_rate': 0.1, 'classifier__n_estimators': 25}\n",
      "[AdaBoost] Test Classification Report:\n",
      "              precision    recall  f1-score   support\n",
      "\n",
      "           0       0.95      0.83      0.89     58484\n",
      "           1       0.21      0.49      0.30      5475\n",
      "\n",
      "    accuracy                           0.80     63959\n",
      "   macro avg       0.58      0.66      0.59     63959\n",
      "weighted avg       0.88      0.80      0.84     63959\n",
      "\n"
     ]
    }
   ],
   "execution_count": 5
  },
  {
   "metadata": {},
   "cell_type": "markdown",
   "source": [
    "#### Interpretation\n",
    "\n",
    "The AdaBoost model achieved an overall accuracy of 80%, which sounds impressive at first glance. However, when we look deeper at its ability to predict heart disease cases (class 1), the performance is much weaker:\n",
    "\n",
    "- Precision (21%) means that when the model predicts someone has heart disease, it's only correct about 1 in 5 times.\n",
    "- Recall (49%) means it’s only catching around half of the actual heart disease cases.\n",
    "- F1-Score (30%) reflects that this model struggles to strike a balance between precision and recall for the minority class.\n",
    "\n",
    "This underperformance is likely due to the **class imbalance** — the dataset contains many more people without heart disease than with it. Despite using boosting (which typically helps with harder cases), AdaBoost still had difficulty identifying true positive cases of heart disease."
   ],
   "id": "f7f6af3530db0511"
  },
  {
   "metadata": {},
   "cell_type": "markdown",
   "source": [
    "### Random Forest (Bagging)\n",
    "\n",
    "Random Forest is an ensemble of decision trees trained on different parts of the dataset with random feature selection. It’s generally very accurate and robust to overfitting, and it works well on tabular data like this."
   ],
   "id": "57ef259b370782ff"
  },
  {
   "metadata": {
    "ExecuteTime": {
     "end_time": "2025-04-22T03:18:55.910553Z",
     "start_time": "2025-04-22T03:15:52.112728Z"
    }
   },
   "cell_type": "code",
   "source": [
    "from sklearn.ensemble import RandomForestClassifier\n",
    "from sklearn.model_selection import RandomizedSearchCV\n",
    "\n",
    "# Pipeline\n",
    "rf_pipe = Pipeline(steps=[\n",
    "    ('preprocessor', preprocessor),\n",
    "    ('classifier', RandomForestClassifier(class_weight='balanced', random_state=123))\n",
    "])\n",
    "\n",
    "# Parameter grid (same as before)\n",
    "rf_param_grid = {\n",
    "    'classifier__n_estimators': [50, 100, 200],\n",
    "    'classifier__max_depth': [5, 10, None],\n",
    "    'classifier__min_samples_split': [2, 5, 10]\n",
    "}\n",
    "\n",
    "# Randomized search with fewer combinations\n",
    "rf_random = RandomizedSearchCV(\n",
    "    rf_pipe,\n",
    "    param_distributions=rf_param_grid,\n",
    "    n_iter=10,  # try only 10 random combinations\n",
    "    cv=3,\n",
    "    scoring='accuracy',\n",
    "    n_jobs=-1,\n",
    "    random_state=123\n",
    ")\n",
    "\n",
    "# Fit model\n",
    "rf_random.fit(X_train, y_train)\n",
    "\n",
    "# Best model and predictions\n",
    "best_rf = rf_random.best_estimator_\n",
    "y_pred_rf = best_rf.predict(X_test)\n",
    "\n",
    "# Output\n",
    "print(f\"[Random Forest] Best Params: {rf_random.best_params_}\")\n",
    "print(\"[Random Forest] Test Classification Report:\")\n",
    "print(classification_report(y_test, y_pred_rf))"
   ],
   "id": "b948a5d30eecb9a3",
   "outputs": [
    {
     "name": "stdout",
     "output_type": "stream",
     "text": [
      "[Random Forest] Best Params: {'classifier__n_estimators': 200, 'classifier__min_samples_split': 2, 'classifier__max_depth': None}\n",
      "[Random Forest] Test Classification Report:\n",
      "              precision    recall  f1-score   support\n",
      "\n",
      "           0       0.92      0.97      0.95     58484\n",
      "           1       0.30      0.12      0.17      5475\n",
      "\n",
      "    accuracy                           0.90     63959\n",
      "   macro avg       0.61      0.55      0.56     63959\n",
      "weighted avg       0.87      0.90      0.88     63959\n",
      "\n"
     ]
    }
   ],
   "execution_count": 6
  },
  {
   "metadata": {},
   "cell_type": "markdown",
   "source": [
    "#### Interpretation\n",
    "\n",
    "The Random Forest model achieved a high overall accuracy of 90%, which means it correctly predicted heart disease status for most individuals. However, when we zoom in on how well it identified actual cases of heart disease (class 1), its performance drops:\n",
    "\n",
    "- Precision (30%) means that when the model predicted someone had heart disease, it was only correct about 3 out of 10 times.\n",
    "- Recall (12%) shows it missed the majority of people who actually had heart disease — only identifying around 1 in 10 true cases.\n",
    "- F1-Score (17%) reflects that the model struggles to balance catching heart disease cases and avoiding false alarms.\n",
    "\n",
    "Despite having great accuracy for the majority class (those without heart disease), the model underperforms where it matters most — catching true heart disease cases. This is a common issue in imbalanced datasets, where the model becomes very good at predicting the dominant class but poor at recognizing the minority."
   ],
   "id": "ccb41024e327334"
  },
  {
   "metadata": {},
   "cell_type": "markdown",
   "source": [
    "### Logistic Regression (Baseline)\n",
    "\n",
    "Logistic Regression is a simple yet powerful model that estimates the probability of a binary outcome. While it doesn’t have the raw power of ensemble models, it’s highly interpretable and helps us understand which features have strong associations with heart disease."
   ],
   "id": "64c987f018858d79"
  },
  {
   "metadata": {
    "ExecuteTime": {
     "end_time": "2025-04-22T03:19:04.883162Z",
     "start_time": "2025-04-22T03:18:55.923060Z"
    }
   },
   "cell_type": "code",
   "source": [
    "from sklearn.linear_model import LogisticRegression\n",
    "\n",
    "# Pipeline\n",
    "lr_pipe = Pipeline(steps=[\n",
    "    ('preprocessor', preprocessor),\n",
    "    ('classifier', LogisticRegression(class_weight='balanced', max_iter=1000))\n",
    "])\n",
    "\n",
    "# Hyperparameter grid\n",
    "lr_param_grid = {\n",
    "    'classifier__C': [0.01, 0.1, 1.0, 10.0],  # Regularization strength\n",
    "    'classifier__penalty': ['l2'],            # l2 is standard for LogisticRegression\n",
    "    'classifier__solver': ['lbfgs']           # compatible solver for l2\n",
    "}\n",
    "\n",
    "# Grid search\n",
    "lr_grid = GridSearchCV(\n",
    "    lr_pipe,\n",
    "    param_grid=lr_param_grid,\n",
    "    cv=cv,\n",
    "    scoring='accuracy',\n",
    "    n_jobs=-1\n",
    ")\n",
    "\n",
    "lr_grid.fit(X_train, y_train)\n",
    "\n",
    "best_lr = lr_grid.best_estimator_\n",
    "y_pred_lr = best_lr.predict(X_test)\n",
    "\n",
    "print(f\"[Logistic Regression] Best Params: {lr_grid.best_params_}\")\n",
    "print(\"[Logistic Regression] Test Classification Report:\")\n",
    "print(classification_report(y_test, y_pred_lr))"
   ],
   "id": "fb4868aa98f8357a",
   "outputs": [
    {
     "name": "stdout",
     "output_type": "stream",
     "text": [
      "[Logistic Regression] Best Params: {'classifier__C': 0.01, 'classifier__penalty': 'l2', 'classifier__solver': 'lbfgs'}\n",
      "[Logistic Regression] Test Classification Report:\n",
      "              precision    recall  f1-score   support\n",
      "\n",
      "           0       0.97      0.75      0.85     58484\n",
      "           1       0.23      0.78      0.35      5475\n",
      "\n",
      "    accuracy                           0.75     63959\n",
      "   macro avg       0.60      0.76      0.60     63959\n",
      "weighted avg       0.91      0.75      0.81     63959\n",
      "\n"
     ]
    }
   ],
   "execution_count": 7
  },
  {
   "metadata": {},
   "cell_type": "markdown",
   "source": [
    "#### Interpretation\n",
    "\n",
    "Despite being the simplest model, Logistic Regression showed surprisingly strong results in identifying heart disease cases (class 1):\n",
    "\n",
    "- Recall (78%) is the standout: it caught over three-quarters of the actual heart disease cases — the best recall of all three models.\n",
    "- However, precision (23%) is still low, meaning a lot of its positive predictions were incorrect.\n",
    "- F1-score (35%) reflects a decent balance between catching real cases and limiting false alarms.\n",
    "- Accuracy (75%) was lower than the other models, but this is expected since the model aggressively predicts “yes” to improve recall.\n",
    "\n",
    "In summary, Logistic Regression prioritizes catching as many true heart disease cases as possible, making it a good choice when the cost of missing a case is high — even if it means a few more false alarms."
   ],
   "id": "4b160aeb235c6959"
  },
  {
   "metadata": {},
   "cell_type": "markdown",
   "source": [
    "### Preliminary Thoughts\n",
    "\n",
    "Each of the three models brought different strengths to the table. Random Forest had the highest overall accuracy (90%), but it struggled to identify heart disease cases, with very low recall (12%). This means it was great at predicting \"no heart disease\" but often missed people who actually had it. AdaBoost improved recall a bit (49%) but still had low precision, making it more balanced than Random Forest but still limited in reliability. Surprisingly, Logistic Regression — the simplest model — had the highest recall (77%) for heart disease cases. While it made more false positives (precision 22%), it did the best job of actually catching people with heart disease.\n",
    "\n",
    "If the goal is to maximize the identification of true heart disease cases, even at the expense of a few false alarms, Logistic Regression is the most appropriate choice. In health-related applications, it's often better to be cautious and flag potential risk rather than miss someone in need of care."
   ],
   "id": "2efced55c23680ac"
  },
  {
   "metadata": {},
   "cell_type": "markdown",
   "source": [
    "### Dealing with Class Imbalance\n",
    "\n",
    "To improve the model’s ability to detect heart disease, I combined SMOTE with advanced ensemble techniques: XGBoost and Gradient Boosting. These models learn from mistakes in previous predictions, and by balancing the training data with SMOTE, I help them focus more on the minority class. This gives us a stronger signal when trying to catch heart disease cases in an imbalanced dataset."
   ],
   "id": "28c28e8aa126ddc6"
  },
  {
   "metadata": {},
   "cell_type": "markdown",
   "source": [
    "### XGBoost\n",
    "\n",
    "For XGBoost, I specified an evaluation metric of `'logloss'`, which measures how confident the model is in its predictions. Unlike accuracy, which only tells us if the prediction was right or wrong, log loss penalizes the model more when it's confidently wrong. This encourages more cautious and well-calibrated predictions, important when dealing with health outcomes like heart disease.\n",
    "\n",
    "I also adjusted the evaluation metric for model selection to 'roc_auc', which stands for the Area Under the Receiver Operating Characteristic Curve. This metric goes beyond accuracy by measuring how well the model separates the positive and negative classes across all classification thresholds. A higher AUC means the model is better at distinguishing between people who have heart disease and those who don't — which is especially important in medical contexts where missing a true positive can have serious consequences.\n",
    "\n",
    "Finally, I tuned key hyperparameters using `GridSearchCV`. These included `n_estimators` (how many trees to use), `max_depth` (how deep each tree can go), and `learning_rate` (how fast the model adjusts to errors). By searching across multiple combinations of these values, I found the best-performing model on our training data and then tested how well it worked on unseen data."
   ],
   "id": "d5e82b95a89d513c"
  },
  {
   "metadata": {
    "ExecuteTime": {
     "end_time": "2025-04-22T03:19:50.773599Z",
     "start_time": "2025-04-22T03:19:05.095973Z"
    }
   },
   "cell_type": "code",
   "source": [
    "from xgboost import XGBClassifier\n",
    "from imblearn.pipeline import Pipeline as ImbPipeline\n",
    "from imblearn.over_sampling import SMOTE\n",
    "from sklearn.model_selection import GridSearchCV\n",
    "\n",
    "# XGBoost pipeline with SMOTE\n",
    "xgb_pipe = ImbPipeline(steps=[\n",
    "    ('preprocessor', preprocessor),\n",
    "    ('smote', SMOTE(random_state=42)),\n",
    "    ('classifier', XGBClassifier(eval_metric='logloss', random_state=42))\n",
    "])\n",
    "\n",
    "# Grid search space\n",
    "xgb_param_grid = {\n",
    "    'classifier__n_estimators': [50, 100],\n",
    "    'classifier__max_depth': [3, 5],\n",
    "    'classifier__learning_rate': [0.05, 0.1]\n",
    "}\n",
    "\n",
    "xgb_grid = GridSearchCV(\n",
    "    xgb_pipe,\n",
    "    param_grid=xgb_param_grid,\n",
    "    cv=3,\n",
    "    scoring='roc_auc',\n",
    "    n_jobs=-1\n",
    ")\n",
    "\n",
    "xgb_grid.fit(X_train, y_train)\n",
    "best_xgb = xgb_grid.best_estimator_\n",
    "y_pred_xgb = best_xgb.predict(X_test)\n",
    "\n",
    "print(f\"[XGBoost + SMOTE] Best Params: {xgb_grid.best_params_}\")\n",
    "print(\"[XGBoost + SMOTE] Test Classification Report:\")\n",
    "print(classification_report(y_test, y_pred_xgb))"
   ],
   "id": "e306aa76c6c7e5b5",
   "outputs": [
    {
     "name": "stdout",
     "output_type": "stream",
     "text": [
      "[XGBoost + SMOTE] Best Params: {'classifier__learning_rate': 0.05, 'classifier__max_depth': 3, 'classifier__n_estimators': 100}\n",
      "[XGBoost + SMOTE] Test Classification Report:\n",
      "              precision    recall  f1-score   support\n",
      "\n",
      "           0       0.97      0.79      0.87     58484\n",
      "           1       0.24      0.70      0.36      5475\n",
      "\n",
      "    accuracy                           0.78     63959\n",
      "   macro avg       0.60      0.75      0.61     63959\n",
      "weighted avg       0.90      0.78      0.82     63959\n",
      "\n"
     ]
    }
   ],
   "execution_count": 8
  },
  {
   "metadata": {},
   "cell_type": "markdown",
   "source": [
    "### Gradient Boosting\n",
    "\n",
    "Gradient Boosting is another ensemble method like AdaBoost, but it works by correcting errors in a more gradual and targeted way. Instead of adjusting the weights of samples like AdaBoost does, Gradient Boosting builds trees to reduce the model's prediction error directly. I included SMOTE in the pipeline to help the model focus on learning from both heart disease and non-heart disease cases more evenly.\n",
    "\n",
    "As with the other models, I used a grid search to test combinations of `n_estimators`, `max_depth`, and `learning_rate` to find the best-performing configuration. I evaluated models using the ROC AUC score to ensure that the final model can effectively identify true cases of heart disease without being overwhelmed by the majority class.\n",
    "\n",
    "To reduce training time while still exploring multiple model configurations, I used RandomizedSearchCV instead of a full grid search. This allowed us to test 5 random combinations of hyperparameters like tree depth, learning rate, and number of trees — all while applying SMOTE to balance the training data. This approach saves time without sacrificing too much model performance."
   ],
   "id": "7a47b1855672108e"
  },
  {
   "metadata": {
    "ExecuteTime": {
     "end_time": "2025-04-22T03:25:27.441433Z",
     "start_time": "2025-04-22T03:19:51.050708Z"
    }
   },
   "cell_type": "code",
   "source": [
    "from sklearn.ensemble import GradientBoostingClassifier\n",
    "from sklearn.model_selection import RandomizedSearchCV\n",
    "from imblearn.pipeline import Pipeline as ImbPipeline\n",
    "from imblearn.over_sampling import SMOTE\n",
    "from sklearn.metrics import classification_report, ConfusionMatrixDisplay\n",
    "\n",
    "# Faster pipeline with SMOTE\n",
    "gb_pipe = ImbPipeline(steps=[\n",
    "    ('preprocessor', preprocessor),\n",
    "    ('smote', SMOTE(random_state=42)),\n",
    "    ('classifier', GradientBoostingClassifier(random_state=42))\n",
    "])\n",
    "\n",
    "# Slimmed-down hyperparameter space\n",
    "gb_param_grid = {\n",
    "    'classifier__n_estimators': [50, 75, 100],\n",
    "    'classifier__max_depth': [3, 4, 5],\n",
    "    'classifier__learning_rate': [0.05, 0.1, 0.2]\n",
    "}\n",
    "\n",
    "# Randomized search: only 5 combinations\n",
    "gb_random = RandomizedSearchCV(\n",
    "    gb_pipe,\n",
    "    param_distributions=gb_param_grid,\n",
    "    n_iter=5,  # limits to 5 random combos\n",
    "    cv=3,\n",
    "    scoring='roc_auc',\n",
    "    n_jobs=-1,\n",
    "    random_state=42\n",
    ")\n",
    "\n",
    "# Fit and evaluate\n",
    "gb_random.fit(X_train, y_train)\n",
    "best_gb = gb_random.best_estimator_\n",
    "y_pred_gb = best_gb.predict(X_test)\n",
    "\n",
    "print(f\"[Gradient Boosting + SMOTE] Best Params: {gb_random.best_params_}\")\n",
    "print(\"[Gradient Boosting + SMOTE] Test Classification Report:\")\n",
    "print(classification_report(y_test, y_pred_gb))"
   ],
   "id": "1ff104a6d720fa6e",
   "outputs": [
    {
     "name": "stdout",
     "output_type": "stream",
     "text": [
      "[Gradient Boosting + SMOTE] Best Params: {'classifier__n_estimators': 50, 'classifier__max_depth': 3, 'classifier__learning_rate': 0.1}\n",
      "[Gradient Boosting + SMOTE] Test Classification Report:\n",
      "              precision    recall  f1-score   support\n",
      "\n",
      "           0       0.96      0.81      0.88     58484\n",
      "           1       0.25      0.67      0.36      5475\n",
      "\n",
      "    accuracy                           0.80     63959\n",
      "   macro avg       0.61      0.74      0.62     63959\n",
      "weighted avg       0.90      0.80      0.84     63959\n",
      "\n"
     ]
    }
   ],
   "execution_count": 9
  },
  {
   "metadata": {},
   "cell_type": "markdown",
   "source": [
    "#### Interpretation\n",
    "\n",
    "The Gradient Boosting model, tuned using randomized search and trained on SMOTE-balanced data, performed noticeably better at identifying heart disease cases compared to earlier attempts. With a recall of 67%, the model was able to detect over two-thirds of the individuals who actually had heart disease — a major improvement from models that had recall scores as low as 12%. Its precision of 25% indicates that while many positive predictions were still false alarms, this trade-off is often acceptable in health screening scenarios where catching more real cases is the priority.\n",
    "\n",
    "The overall accuracy of 80% and macro-averaged F1-score of 62% show that the model maintains decent balance between both classes. The best model configuration used 50 trees, a maximum depth of 3, and a learning rate of 0.1, indicating a relatively simple and well-regularized boosting setup. These results suggest that combining Gradient Boosting with SMOTE provides a strong balance between sensitivity to heart disease and maintaining reasonable overall performance."
   ],
   "id": "9e5fd853dfa45b28"
  },
  {
   "metadata": {},
   "cell_type": "markdown",
   "source": [
    "### AdaBoost + SMOTE\n",
    "\n",
    "To enhance AdaBoost’s ability to detect heart disease, I combined it with SMOTE to balance the training data. AdaBoost works by building a sequence of simple decision trees, each one focusing more on the examples that the previous trees got wrong. By training these trees on a SMOTE-augmented dataset, the model has a better chance of learning the patterns associated with heart disease, which were underrepresented in the original data.\n",
    "\n",
    "I used a grid search to test different numbers of trees (`n_estimators`) and learning rates. These parameters control how many iterations the model runs and how strongly each tree influences the final result. Instead of using accuracy as our evaluation metric, I used ROC AUC, which better captures the model’s ability to distinguish between classes when they are imbalanced."
   ],
   "id": "e032cf1023548c6d"
  },
  {
   "metadata": {
    "ExecuteTime": {
     "end_time": "2025-04-22T03:29:30.164588Z",
     "start_time": "2025-04-22T03:25:27.740020Z"
    }
   },
   "cell_type": "code",
   "source": [
    "from sklearn.ensemble import AdaBoostClassifier\n",
    "from sklearn.tree import DecisionTreeClassifier\n",
    "from imblearn.pipeline import Pipeline as ImbPipeline\n",
    "from imblearn.over_sampling import SMOTE\n",
    "from sklearn.model_selection import GridSearchCV\n",
    "from sklearn.metrics import classification_report, ConfusionMatrixDisplay\n",
    "\n",
    "# Base estimator: shallow tree with balanced weighting\n",
    "base_tree = DecisionTreeClassifier(max_depth=1, class_weight='balanced', random_state=42)\n",
    "\n",
    "# AdaBoost pipeline\n",
    "ada_pipe = ImbPipeline(steps=[\n",
    "    ('preprocessor', preprocessor),\n",
    "    ('smote', SMOTE(random_state=42)),\n",
    "    ('classifier', AdaBoostClassifier(estimator=base_tree, random_state=42))\n",
    "])\n",
    "\n",
    "# Hyperparameter grid\n",
    "ada_param_grid = {\n",
    "    'classifier__n_estimators': [25, 50, 100],\n",
    "    'classifier__learning_rate': [0.1, 0.5, 1.0]\n",
    "}\n",
    "\n",
    "# Grid search\n",
    "ada_grid = GridSearchCV(\n",
    "    ada_pipe,\n",
    "    param_grid=ada_param_grid,\n",
    "    cv=3,\n",
    "    scoring='roc_auc',\n",
    "    n_jobs=-1\n",
    ")\n",
    "\n",
    "# Fit and evaluate\n",
    "ada_grid.fit(X_train, y_train)\n",
    "best_ada = ada_grid.best_estimator_\n",
    "y_pred_ada = best_ada.predict(X_test)\n",
    "\n",
    "print(f\"[AdaBoost + SMOTE] Best Params: {ada_grid.best_params_}\")\n",
    "print(\"[AdaBoost + SMOTE] Test Classification Report:\")\n",
    "print(classification_report(y_test, y_pred_ada))"
   ],
   "id": "5c2693ea3610f11e",
   "outputs": [
    {
     "name": "stdout",
     "output_type": "stream",
     "text": [
      "[AdaBoost + SMOTE] Best Params: {'classifier__learning_rate': 1.0, 'classifier__n_estimators': 100}\n",
      "[AdaBoost + SMOTE] Test Classification Report:\n",
      "              precision    recall  f1-score   support\n",
      "\n",
      "           0       0.97      0.79      0.87     58484\n",
      "           1       0.24      0.70      0.36      5475\n",
      "\n",
      "    accuracy                           0.79     63959\n",
      "   macro avg       0.60      0.75      0.62     63959\n",
      "weighted avg       0.90      0.79      0.83     63959\n",
      "\n"
     ]
    }
   ],
   "execution_count": 10
  },
  {
   "metadata": {},
   "cell_type": "markdown",
   "source": [
    "#### Interpretation\n",
    "\n",
    "After tuning AdaBoost on SMOTE-augmented data, the model showed significant improvement in identifying heart disease cases. With a recall of 70%, it successfully caught the majority of true positive cases — a big leap from earlier versions that missed most of them. However, its precision was 24*, meaning many of those positive predictions were still incorrect. This trade-off reflects a focus on sensitivity over specificity, which is often appropriate in healthcare applications where missing a true case is more costly than issuing a false alarm.\n",
    "\n",
    "The model’s overall accuracy was 79%, and it achieved a macro F1-score of 62%, showing decent balance between the two classes. The best-performing configuration used 100 boosting rounds and a learning rate of 1.0, indicating that a strong emphasis on learning from errors helped improve recall. This confirms that AdaBoost, when paired with SMOTE, is a competitive option for handling imbalanced medical data."
   ],
   "id": "d482e7b151e6afa9"
  },
  {
   "metadata": {},
   "cell_type": "markdown",
   "source": [
    "### Final Wrap-Up: Comparing All Models\n",
    "\n",
    "Across this project, I explored a range of classification models to predict heart disease using CDC survey data — including **AdaBoost, Random Forest, Logistic Regression, XGBoost, and Gradient Boosting**. I first trained these models on the original, imbalanced dataset, then revisited the top-performing ones using **SMOTE**, a technique that creates synthetic samples to help the model learn from underrepresented heart disease cases.\n",
    "\n",
    "Without SMOTE, most models achieved **high accuracy** by heavily favoring the majority class (people without heart disease). For example, Random Forest reached 90% accuracy but only detected 12% of actual heart disease cases. AdaBoost improved recall slightly (49%) but still lacked sensitivity. Logistic Regression stood out with a much higher recall of 77%, though its precision remained low — highlighting a trade-off between catching more true cases and risking more false alarms.\n",
    "\n",
    "When I applied SMOTE, results improved meaningfully. **Gradient Boosting + SMOTE** achieved a strong balance with 67% recall and 80% accuracy. **AdaBoost + SMOTE** hit a similar 70% recall with slightly lower overall accuracy (79%). **XGBoost + SMOTE** also performed well, offering a balanced approach and a more stable training process thanks to its advanced boosting strategy.\n",
    "\n",
    "### Final Recommendation\n",
    "\n",
    "If the goal is to **maximize the detection of true heart disease cases** — which is especially important in preventative healthcare — then **Logistic Regression** (without SMOTE) and **Gradient Boosting with SMOTE** are the most compelling choices. Logistic Regression is simple, fast, and performed surprisingly well. However, if you're willing to invest in a more complex model with better generalization and smoother trade-offs, **Gradient Boosting + SMOTE** provides the best overall balance between recall, precision, and accuracy. It’s a strong candidate for real-world deployment where early detection matters most."
   ],
   "id": "d6837556ad1e0b8d"
  },
  {
   "metadata": {},
   "cell_type": "markdown",
   "source": "## Feature Importances",
   "id": "7072c15d4909eb2f"
  },
  {
   "metadata": {
    "ExecuteTime": {
     "end_time": "2025-04-22T03:29:30.476130Z",
     "start_time": "2025-04-22T03:29:30.471781Z"
    }
   },
   "cell_type": "code",
   "source": [
    "import matplotlib.pyplot as plt\n",
    "\n",
    "# Get transformed feature names from preprocessor\n",
    "def get_feature_names(preprocessor):\n",
    "    num_features = preprocessor.transformers_[0][2]\n",
    "    cat_transformer = preprocessor.transformers_[1][1]\n",
    "    cat_features = cat_transformer.named_steps['onehot'].get_feature_names_out(preprocessor.transformers_[1][2])\n",
    "    return list(num_features) + list(cat_features)\n",
    "\n",
    "# Extract and display top N feature importances\n",
    "def plot_feature_importances(model, model_name=\"Model\", top_n=15):\n",
    "    feature_names = get_feature_names(model.named_steps[\"preprocessor\"])\n",
    "    importances = model.named_steps[\"classifier\"].feature_importances_\n",
    "    indices = np.argsort(importances)[-top_n:]\n",
    "    \n",
    "    # Plot\n",
    "    plt.figure(figsize=(10, 6))\n",
    "    plt.barh(range(top_n), importances[indices], align='center')\n",
    "    plt.yticks(range(top_n), [feature_names[i] for i in indices])\n",
    "    plt.xlabel(\"Feature Importance\")\n",
    "    plt.title(f\"Top {top_n} Features – {model_name}\")\n",
    "    plt.tight_layout()\n",
    "    plt.show()\n",
    "\n",
    "# Return as DataFrame instead of plot\n",
    "def get_top_features(model, model_name=\"Model\", top_n=15):\n",
    "    feature_names = get_feature_names(model.named_steps[\"preprocessor\"])\n",
    "    importances = model.named_steps[\"classifier\"].feature_importances_\n",
    "    indices = np.argsort(importances)[-top_n:]\n",
    "    \n",
    "    return pd.DataFrame({\n",
    "        \"Model\": model_name,\n",
    "        \"Feature\": [feature_names[i] for i in indices],\n",
    "        \"Importance\": importances[indices]\n",
    "    }).sort_values(by=\"Importance\", ascending=False)\n"
   ],
   "id": "60e03a07d27ad07f",
   "outputs": [],
   "execution_count": 11
  },
  {
   "metadata": {
    "ExecuteTime": {
     "end_time": "2025-04-22T03:29:31.116130Z",
     "start_time": "2025-04-22T03:29:30.780579Z"
    }
   },
   "cell_type": "code",
   "source": [
    "# To visualize feature importances:\n",
    "plot_feature_importances(best_xgb, \"XGBoost + SMOTE\")\n",
    "plot_feature_importances(best_gb, \"Gradient Boosting + SMOTE\")\n",
    "plot_feature_importances(best_ada, \"AdaBoost + SMOTE\")\n",
    "\n",
    "# Get table values instead of a plot:\n",
    "xgb_df = get_top_features(best_xgb, \"XGBoost + SMOTE\")\n",
    "gb_df = get_top_features(best_gb, \"Gradient Boosting + SMOTE\")\n",
    "ada_df = get_top_features(best_ada, \"AdaBoost + SMOTE\")\n",
    "\n",
    "# Master Table\n",
    "all_features_df = pd.concat([xgb_df, gb_df, ada_df], ignore_index=True)"
   ],
   "id": "26d5e25229a41f5c",
   "outputs": [
    {
     "data": {
      "text/plain": [
       "<Figure size 1000x600 with 1 Axes>"
      ],
      "image/png": "[encoded data removed]"
     },
     "metadata": {},
     "output_type": "display_data"
    },
    {
     "data": {
      "text/plain": [
       "<Figure size 1000x600 with 1 Axes>"
      ],
      "image/png": "[encoded data removed]"
     },
     "metadata": {},
     "output_type": "display_data"
    },
    {
     "data": {
      "text/plain": [
       "<Figure size 1000x600 with 1 Axes>"
      ],
      "image/png": "[encoded data removed]"
     },
     "metadata": {},
     "output_type": "display_data"
    }
   ],
   "execution_count": 12
  },
  {
   "metadata": {},
   "cell_type": "markdown",
   "source": [
    "### Interpreting Top Predictors of Heart Disease\n",
    "To understand which factors most influence the models' predictions, I examined the top features from the three best-performing SMOTE-enhanced models: XGBoost, Gradient Boosting, and AdaBoost. These models are based on decision trees, which naturally provide a measure of how often and how effectively each feature is used in splits — known as feature importance.\n",
    "\n",
    "Across all three models, difficulty walking (DiffWalking_Yes) consistently emerged as the strongest predictor of heart disease. This makes intuitive sense, as difficulty walking can be a downstream symptom of cardiovascular strain. General health ratings (GenHealth_Excellent, Very good, Good), age-related categories (especially AgeCategory_80 or older, 75-79, and 65-69), and having a history of stroke (Stroke_Yes) or diabetes (Diabetic_Yes) were also among the most important features in all models. These align with well-known clinical risk factors.\n",
    "\n",
    "Interestingly, AdaBoost placed more weight on younger age categories (such as 18–24, 25–29, 30–34) compared to the other models, which could suggest that it was especially sensitive to differences in patterns among younger individuals. Meanwhile, Gradient Boosting emphasized both biological indicators (like physical health and diabetes status) and demographic variables such as sex and race, offering a broader signal distribution. XGBoost, on the other hand, had the sharpest focus, ranking DiffWalking_Yes far above all others,  which likely contributed to its efficiency in identifying heart disease patterns in a more compact way.\n"
   ],
   "id": "eb240f1b342f1159"
  }
 ],
 "metadata": {
  "kernelspec": {
   "display_name": "Python 3",
   "language": "python",
   "name": "python3"
  },
  "language_info": {
   "codemirror_mode": {
    "name": "ipython",
    "version": 2
   },
   "file_extension": ".py",
   "mimetype": "text/x-python",
   "name": "python",
   "nbconvert_exporter": "python",
   "pygments_lexer": "ipython2",
   "version": "2.7.6"
  }
 },
 "nbformat": 4,
 "nbformat_minor": 5
}
