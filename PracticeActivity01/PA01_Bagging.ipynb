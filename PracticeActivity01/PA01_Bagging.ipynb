{
 "cells": [
  {
   "metadata": {},
   "cell_type": "raw",
   "source": [
    "---\n",
    "title: \"Practice Activity 1 - Bagging\"\n",
    "author: \"Isabella McCarty\"\n",
    "format:\n",
    "  html:\n",
    "    toc: true\n",
    "    code-fold: true\n",
    "    theme: minty\n",
    "    code-line-numbers: true\n",
    "    code-tools: true\n",
    "    self-contained: true\n",
    "execute:\n",
    "  message: false\n",
    "  warning: false\n",
    "---"
   ],
   "id": "f0d27d6f243e5fa"
  },
  {
   "metadata": {},
   "cell_type": "markdown",
   "source": [
    "# Instructions\n",
    "Download the dataset here: https://archive.ics.uci.edu/ml/datasets/Abalone\n",
    "\n",
    "The data and variables names are in different files; you will likely need them both. The goal here is to predict the age of the abalone using the other variables in the dataset because the traditional method for aging these organisms is boring and tedious.\n",
    "\n",
    "```\n",
    "Attribute information:\n",
    "\n",
    "   Given is the attribute name, attribute type, the measurement unit and a\n",
    "   brief description.  The number of rings is the value to predict: either\n",
    "   as a continuous value or as a classification problem.\n",
    "\n",
    "\tName\t\tData Type\tMeas.\tDescription\n",
    "\t----\t\t---------\t-----\t-----------\n",
    "\tSex\t\t        nominal\t\t\tM, F, and I (infant)\n",
    "\tLength\t\tcontinuous\tmm\tLongest shell measurement\n",
    "\tDiameter\t        continuous\tmm\tperpendicular to length\n",
    "\tHeight\t\tcontinuous\tmm\twith meat in shell\n",
    "\tWhole weight\tcontinuous\tgrams\twhole abalone\n",
    "\tShucked weight\tcontinuous\tgrams\tweight of meat\n",
    "\tViscera weight\tcontinuous\tgrams\tgut weight (after bleeding)\n",
    "\tShell weight\tcontinuous\tgrams\tafter being dried\n",
    "\tRings\t\tinteger\t\t\t+1.5 gives the age in years\n",
    "```\n",
    "\n",
    "There are two challenges (in my opinion):\n",
    "\n",
    "1. You should try to build the best, bagging-based model (this includes random forests) to predict age.\n",
    "\n",
    "2. The UC Irvine Machine Learning Repository classifies this dataset as a \"classification\" dataset, but age is stored as a numeric (albeit discrete-valued) variable. So, I think it could maybe be reasonable to treat this as a regression problem. It's up to you!\n",
    "\n",
    "Submit your HTML or .ipynb file to canvas."
   ],
   "id": "c9a9364928902eeb"
  },
  {
   "metadata": {},
   "cell_type": "markdown",
   "source": "## Data Import",
   "id": "5b888ce2351677da"
  },
  {
   "metadata": {
    "ExecuteTime": {
     "end_time": "2025-04-12T00:33:24.584652Z",
     "start_time": "2025-04-12T00:33:24.580695Z"
    }
   },
   "cell_type": "code",
   "source": [
    "# Packages\n",
    "import pandas as pd\n",
    "from sklearn.compose import ColumnTransformer\n",
    "from sklearn.ensemble import BaggingRegressor, RandomForestRegressor\n",
    "from sklearn.metrics import mean_squared_error, r2_score\n",
    "from sklearn.model_selection import train_test_split, GridSearchCV\n",
    "from sklearn.pipeline import Pipeline\n",
    "from sklearn.preprocessing import OneHotEncoder\n",
    "from sklearn.tree import DecisionTreeRegressor\n",
    "import numpy as np\n",
    "import matplotlib.pyplot as plt"
   ],
   "id": "78990b5a45cf7ec",
   "outputs": [],
   "execution_count": 8
  },
  {
   "metadata": {
    "ExecuteTime": {
     "end_time": "2025-04-12T00:33:24.616741Z",
     "start_time": "2025-04-12T00:33:24.605662Z"
    }
   },
   "cell_type": "code",
   "source": [
    "# Data\n",
    "abalone_df = pd.read_csv('Data/abalone.data', header=None)\n",
    "abalone_df.columns = [\n",
    "    'Sex',\n",
    "    'Length',\n",
    "    'Diameter',\n",
    "    'Height',\n",
    "    'Whole_weight',\n",
    "    'Shucked_weight',\n",
    "    'Viscera_weight',\n",
    "    'Shell_weight',\n",
    "    'Rings'\n",
    "]\n",
    "abalone_df.head()"
   ],
   "id": "bbecfd822b6934cb",
   "outputs": [
    {
     "data": {
      "text/plain": [
       "  Sex  Length  Diameter  Height  Whole_weight  Shucked_weight  Viscera_weight  \\\n",
       "0   M   0.455     0.365   0.095        0.5140          0.2245          0.1010   \n",
       "1   M   0.350     0.265   0.090        0.2255          0.0995          0.0485   \n",
       "2   F   0.530     0.420   0.135        0.6770          0.2565          0.1415   \n",
       "3   M   0.440     0.365   0.125        0.5160          0.2155          0.1140   \n",
       "4   I   0.330     0.255   0.080        0.2050          0.0895          0.0395   \n",
       "\n",
       "   Shell_weight  Rings  \n",
       "0         0.150     15  \n",
       "1         0.070      7  \n",
       "2         0.210      9  \n",
       "3         0.155     10  \n",
       "4         0.055      7  "
      ],
      "text/html": [
       "<div>\n",
       "<style scoped>\n",
       "    .dataframe tbody tr th:only-of-type {\n",
       "        vertical-align: middle;\n",
       "    }\n",
       "\n",
       "    .dataframe tbody tr th {\n",
       "        vertical-align: top;\n",
       "    }\n",
       "\n",
       "    .dataframe thead th {\n",
       "        text-align: right;\n",
       "    }\n",
       "</style>\n",
       "<table border=\"1\" class=\"dataframe\">\n",
       "  <thead>\n",
       "    <tr style=\"text-align: right;\">\n",
       "      <th></th>\n",
       "      <th>Sex</th>\n",
       "      <th>Length</th>\n",
       "      <th>Diameter</th>\n",
       "      <th>Height</th>\n",
       "      <th>Whole_weight</th>\n",
       "      <th>Shucked_weight</th>\n",
       "      <th>Viscera_weight</th>\n",
       "      <th>Shell_weight</th>\n",
       "      <th>Rings</th>\n",
       "    </tr>\n",
       "  </thead>\n",
       "  <tbody>\n",
       "    <tr>\n",
       "      <th>0</th>\n",
       "      <td>M</td>\n",
       "      <td>0.455</td>\n",
       "      <td>0.365</td>\n",
       "      <td>0.095</td>\n",
       "      <td>0.5140</td>\n",
       "      <td>0.2245</td>\n",
       "      <td>0.1010</td>\n",
       "      <td>0.150</td>\n",
       "      <td>15</td>\n",
       "    </tr>\n",
       "    <tr>\n",
       "      <th>1</th>\n",
       "      <td>M</td>\n",
       "      <td>0.350</td>\n",
       "      <td>0.265</td>\n",
       "      <td>0.090</td>\n",
       "      <td>0.2255</td>\n",
       "      <td>0.0995</td>\n",
       "      <td>0.0485</td>\n",
       "      <td>0.070</td>\n",
       "      <td>7</td>\n",
       "    </tr>\n",
       "    <tr>\n",
       "      <th>2</th>\n",
       "      <td>F</td>\n",
       "      <td>0.530</td>\n",
       "      <td>0.420</td>\n",
       "      <td>0.135</td>\n",
       "      <td>0.6770</td>\n",
       "      <td>0.2565</td>\n",
       "      <td>0.1415</td>\n",
       "      <td>0.210</td>\n",
       "      <td>9</td>\n",
       "    </tr>\n",
       "    <tr>\n",
       "      <th>3</th>\n",
       "      <td>M</td>\n",
       "      <td>0.440</td>\n",
       "      <td>0.365</td>\n",
       "      <td>0.125</td>\n",
       "      <td>0.5160</td>\n",
       "      <td>0.2155</td>\n",
       "      <td>0.1140</td>\n",
       "      <td>0.155</td>\n",
       "      <td>10</td>\n",
       "    </tr>\n",
       "    <tr>\n",
       "      <th>4</th>\n",
       "      <td>I</td>\n",
       "      <td>0.330</td>\n",
       "      <td>0.255</td>\n",
       "      <td>0.080</td>\n",
       "      <td>0.2050</td>\n",
       "      <td>0.0895</td>\n",
       "      <td>0.0395</td>\n",
       "      <td>0.055</td>\n",
       "      <td>7</td>\n",
       "    </tr>\n",
       "  </tbody>\n",
       "</table>\n",
       "</div>"
      ]
     },
     "execution_count": 9,
     "metadata": {},
     "output_type": "execute_result"
    }
   ],
   "execution_count": 9
  },
  {
   "metadata": {},
   "cell_type": "markdown",
   "source": [
    "## Data Prep\n",
    "\n",
    "Based on the metadata, I am going to convert 'Rings' to years and drop 'Rings' (linear transformation). \n"
   ],
   "id": "33df617aa689b634"
  },
  {
   "metadata": {
    "ExecuteTime": {
     "end_time": "2025-04-12T00:33:24.695590Z",
     "start_time": "2025-04-12T00:33:24.686549Z"
    }
   },
   "cell_type": "code",
   "source": [
    "# Rings +1.5 gives the age in years\n",
    "abalone_df[\"Age\"] = abalone_df[\"Rings\"] + 1.5\n",
    "abalone_df.drop(columns=[\"Rings\"], inplace=True)\n",
    "abalone_df.head()"
   ],
   "id": "7add69a58899f041",
   "outputs": [
    {
     "data": {
      "text/plain": [
       "  Sex  Length  Diameter  Height  Whole_weight  Shucked_weight  Viscera_weight  \\\n",
       "0   M   0.455     0.365   0.095        0.5140          0.2245          0.1010   \n",
       "1   M   0.350     0.265   0.090        0.2255          0.0995          0.0485   \n",
       "2   F   0.530     0.420   0.135        0.6770          0.2565          0.1415   \n",
       "3   M   0.440     0.365   0.125        0.5160          0.2155          0.1140   \n",
       "4   I   0.330     0.255   0.080        0.2050          0.0895          0.0395   \n",
       "\n",
       "   Shell_weight   Age  \n",
       "0         0.150  16.5  \n",
       "1         0.070   8.5  \n",
       "2         0.210  10.5  \n",
       "3         0.155  11.5  \n",
       "4         0.055   8.5  "
      ],
      "text/html": [
       "<div>\n",
       "<style scoped>\n",
       "    .dataframe tbody tr th:only-of-type {\n",
       "        vertical-align: middle;\n",
       "    }\n",
       "\n",
       "    .dataframe tbody tr th {\n",
       "        vertical-align: top;\n",
       "    }\n",
       "\n",
       "    .dataframe thead th {\n",
       "        text-align: right;\n",
       "    }\n",
       "</style>\n",
       "<table border=\"1\" class=\"dataframe\">\n",
       "  <thead>\n",
       "    <tr style=\"text-align: right;\">\n",
       "      <th></th>\n",
       "      <th>Sex</th>\n",
       "      <th>Length</th>\n",
       "      <th>Diameter</th>\n",
       "      <th>Height</th>\n",
       "      <th>Whole_weight</th>\n",
       "      <th>Shucked_weight</th>\n",
       "      <th>Viscera_weight</th>\n",
       "      <th>Shell_weight</th>\n",
       "      <th>Age</th>\n",
       "    </tr>\n",
       "  </thead>\n",
       "  <tbody>\n",
       "    <tr>\n",
       "      <th>0</th>\n",
       "      <td>M</td>\n",
       "      <td>0.455</td>\n",
       "      <td>0.365</td>\n",
       "      <td>0.095</td>\n",
       "      <td>0.5140</td>\n",
       "      <td>0.2245</td>\n",
       "      <td>0.1010</td>\n",
       "      <td>0.150</td>\n",
       "      <td>16.5</td>\n",
       "    </tr>\n",
       "    <tr>\n",
       "      <th>1</th>\n",
       "      <td>M</td>\n",
       "      <td>0.350</td>\n",
       "      <td>0.265</td>\n",
       "      <td>0.090</td>\n",
       "      <td>0.2255</td>\n",
       "      <td>0.0995</td>\n",
       "      <td>0.0485</td>\n",
       "      <td>0.070</td>\n",
       "      <td>8.5</td>\n",
       "    </tr>\n",
       "    <tr>\n",
       "      <th>2</th>\n",
       "      <td>F</td>\n",
       "      <td>0.530</td>\n",
       "      <td>0.420</td>\n",
       "      <td>0.135</td>\n",
       "      <td>0.6770</td>\n",
       "      <td>0.2565</td>\n",
       "      <td>0.1415</td>\n",
       "      <td>0.210</td>\n",
       "      <td>10.5</td>\n",
       "    </tr>\n",
       "    <tr>\n",
       "      <th>3</th>\n",
       "      <td>M</td>\n",
       "      <td>0.440</td>\n",
       "      <td>0.365</td>\n",
       "      <td>0.125</td>\n",
       "      <td>0.5160</td>\n",
       "      <td>0.2155</td>\n",
       "      <td>0.1140</td>\n",
       "      <td>0.155</td>\n",
       "      <td>11.5</td>\n",
       "    </tr>\n",
       "    <tr>\n",
       "      <th>4</th>\n",
       "      <td>I</td>\n",
       "      <td>0.330</td>\n",
       "      <td>0.255</td>\n",
       "      <td>0.080</td>\n",
       "      <td>0.2050</td>\n",
       "      <td>0.0895</td>\n",
       "      <td>0.0395</td>\n",
       "      <td>0.055</td>\n",
       "      <td>8.5</td>\n",
       "    </tr>\n",
       "  </tbody>\n",
       "</table>\n",
       "</div>"
      ]
     },
     "execution_count": 10,
     "metadata": {},
     "output_type": "execute_result"
    }
   ],
   "execution_count": 10
  },
  {
   "metadata": {},
   "cell_type": "markdown",
   "source": "## Bagging Regressor",
   "id": "756b045bc82f2b"
  },
  {
   "metadata": {
    "ExecuteTime": {
     "end_time": "2025-04-12T00:33:48.379222Z",
     "start_time": "2025-04-12T00:33:24.763511Z"
    }
   },
   "cell_type": "code",
   "source": [
    "# Split predictors and target\n",
    "X = abalone_df.drop(columns='Age')\n",
    "y = abalone_df['Age']\n",
    "\n",
    "# Train/test split\n",
    "X_train, X_test, y_train, y_test = train_test_split(X, y, test_size=0.2, random_state=42)\n",
    "\n",
    "# Column transformer for preprocessing\n",
    "categorical_features = ['Sex']\n",
    "categorical_transformer = OneHotEncoder(drop='first')  # avoids dummy variable trap since Sex is 3 categories\n",
    "\n",
    "preprocessor = ColumnTransformer(\n",
    "    transformers=[\n",
    "        ('cat', categorical_transformer, categorical_features)\n",
    "    ],\n",
    "    remainder='passthrough'  # keeps numeric features as-is\n",
    ")\n",
    "\n",
    "# Pipeline: preprocessing + bagging model\n",
    "pipe = Pipeline(steps=[\n",
    "    ('preprocessor', preprocessor),\n",
    "    ('regressor', BaggingRegressor(estimator=DecisionTreeRegressor(random_state=42), random_state=42)),\n",
    "])\n",
    "\n",
    "# Grid search\n",
    "param_grid = {\n",
    "    'regressor__n_estimators': [50, 100, 200, 250], # B \n",
    "    'regressor__estimator__max_depth': [None, 5, 10, 20],\n",
    "    'regressor__estimator__min_samples_split': [2, 5]\n",
    "}\n",
    "\n",
    "# GridSearchCV\n",
    "grid_search = GridSearchCV(pipe, param_grid, cv=5, scoring='neg_mean_squared_error', n_jobs=-1)\n",
    "grid_search.fit(X_train, y_train)\n",
    "\n",
    "# Best model evaluation\n",
    "best_bagging = grid_search.best_estimator_\n",
    "y_pred = best_bagging.predict(X_test)\n",
    "mse_bagging = mean_squared_error(y_test, y_pred)\n",
    "r2_bagging = r2_score(y_test, y_pred)\n",
    "\n",
    "print(f\"Best Params: {grid_search.best_params_}\")\n",
    "print(f\"Bagging Test MSE: {mse_bagging:.2f}\")\n",
    "print(f\"Bagging Test R²: {r2_bagging:.3f}\")"
   ],
   "id": "a9d249f5c37c5e23",
   "outputs": [
    {
     "name": "stdout",
     "output_type": "stream",
     "text": [
      "Best Params: {'regressor__estimator__max_depth': 10, 'regressor__estimator__min_samples_split': 2, 'regressor__n_estimators': 250}\n",
      "Bagging Test MSE: 4.95\n",
      "Bagging Test R²: 0.543\n"
     ]
    }
   ],
   "execution_count": 11
  },
  {
   "metadata": {},
   "cell_type": "markdown",
   "source": "### KNN for the estimator",
   "id": "a3c1a49af521cd2a"
  },
  {
   "metadata": {
    "ExecuteTime": {
     "end_time": "2025-04-12T00:33:54.712695Z",
     "start_time": "2025-04-12T00:33:48.403476Z"
    }
   },
   "cell_type": "code",
   "source": [
    "from sklearn.neighbors import KNeighborsRegressor\n",
    "\n",
    "# New pipeline with KNeighborsRegressor as base estimator\n",
    "knn_pipe = Pipeline(steps=[\n",
    "    ('preprocessor', preprocessor),  # reuse existing transformer\n",
    "    ('regressor', BaggingRegressor(estimator=KNeighborsRegressor(), random_state=42))\n",
    "])\n",
    "\n",
    "# New param grid specific to KNeighbors\n",
    "knn_param_grid = {\n",
    "    'regressor__n_estimators': [50, 100, 200],\n",
    "    'regressor__estimator__n_neighbors': [3, 5, 7]\n",
    "}\n",
    "\n",
    "# GridSearchCV for KNN base learner\n",
    "knn_grid_search = GridSearchCV(knn_pipe, knn_param_grid, cv=5, scoring='neg_mean_squared_error', n_jobs=-1)\n",
    "knn_grid_search.fit(X_train, y_train)\n",
    "\n",
    "# Predictions and evaluation\n",
    "best_knn_bagging = knn_grid_search.best_estimator_\n",
    "y_pred_knn = best_knn_bagging.predict(X_test)\n",
    "mse_knn = mean_squared_error(y_test, y_pred_knn)\n",
    "r2_knn = r2_score(y_test, y_pred_knn)\n",
    "\n",
    "print(f\"Best Params: {knn_grid_search.best_params_}\")\n",
    "print(f\"Bagging Test MSE (KNN): {mse_knn:.2f}\")\n",
    "print(f\"Bagging Test R² (KNN): {r2_knn:.3f}\")"
   ],
   "id": "8cb3b05f1cba68e6",
   "outputs": [
    {
     "name": "stderr",
     "output_type": "stream",
     "text": [
      "C:\\Users\\isabe\\AppData\\Local\\Programs\\Python\\Python312\\Lib\\site-packages\\numpy\\ma\\core.py:2846: RuntimeWarning: invalid value encountered in cast\n",
      "  _data = np.array(data, dtype=dtype, copy=copy,\n"
     ]
    },
    {
     "name": "stdout",
     "output_type": "stream",
     "text": [
      "Best Params: {'regressor__estimator__n_neighbors': 7, 'regressor__n_estimators': 200}\n",
      "Bagging Test MSE (KNN): 4.87\n",
      "Bagging Test R² (KNN): 0.550\n"
     ]
    }
   ],
   "execution_count": 12
  },
  {
   "metadata": {},
   "cell_type": "markdown",
   "source": "Both the decision tree and K-nearest neighbors (KNN) base learners performed reasonably well when used within a bagging ensemble, but the KNN model *slightly* outperformed the tree-based model. The optimal parameters for the decision tree ensemble were a maximum depth of 10, minimum samples split of 2, and 250 estimators, resulting in a test MSE of 4.95 and R² of 0.543. In comparison, the KNN ensemble performed best with 7 neighbors and 200 estimators, achieving a lower test MSE of 4.87 and a slightly higher R² of 0.550. This suggests that the KNN-based model captured slightly more variance in the target variable and produced predictions closer to the actual age values on average. The improved performance may be due to the nature of the abalone dataset, where KNN, a non-parametric, locally sensitive method, benefits from averaging over multiple resampled neighborhoods, reducing variance without imposing a rigid structure.",
   "id": "3a26a1997e2c854"
  },
  {
   "metadata": {},
   "cell_type": "markdown",
   "source": "## Random Forest Regressor",
   "id": "ae54b29e225266e8"
  },
  {
   "metadata": {
    "ExecuteTime": {
     "end_time": "2025-04-12T00:34:30.903550Z",
     "start_time": "2025-04-12T00:33:54.726703Z"
    }
   },
   "cell_type": "code",
   "source": [
    "pipe_rf = Pipeline(steps=[\n",
    "    ('preprocessor', preprocessor),\n",
    "    ('regressor', RandomForestRegressor(random_state=42))\n",
    "])\n",
    "\n",
    "# Random Forest hyperparameters\n",
    "param_grid_rf = {\n",
    "    'regressor__n_estimators': [50, 100, 200, 250],\n",
    "    'regressor__max_depth': [None, 5, 10, 20],\n",
    "    'regressor__min_samples_split': [2, 5],\n",
    "    'regressor__max_features': [None, 'sqrt', 'log2']\n",
    "}\n",
    "\n",
    "# Grid search for RF\n",
    "grid_rf = GridSearchCV(pipe_rf, param_grid_rf, cv=5, scoring='neg_mean_squared_error', n_jobs=-1)\n",
    "grid_rf.fit(X_train, y_train)\n",
    "\n",
    "# Evaluate RF\n",
    "best_rf = grid_rf.best_estimator_\n",
    "y_pred_rf = best_rf.predict(X_test)\n",
    "mse_rf = mean_squared_error(y_test, y_pred_rf)\n",
    "r2_rf = r2_score(y_test, y_pred_rf)\n",
    "\n",
    "print(f\"Best Params: {grid_rf.best_params_}\")\n",
    "print(f\"RF Test MSE: {mse_rf:.2f}\")\n",
    "print(f\"RF Test R²: {r2_rf:.3f}\")"
   ],
   "id": "dcea9f9ec67ef70d",
   "outputs": [
    {
     "name": "stdout",
     "output_type": "stream",
     "text": [
      "Best Params: {'regressor__max_depth': 10, 'regressor__max_features': 'sqrt', 'regressor__min_samples_split': 2, 'regressor__n_estimators': 200}\n",
      "RF Test MSE: 4.84\n",
      "RF Test R²: 0.553\n"
     ]
    }
   ],
   "execution_count": 13
  },
  {
   "metadata": {},
   "cell_type": "markdown",
   "source": "The Random Forest model slightly outperformed both the bagged decision tree and bagged K-nearest neighbors (KNN) models. With optimal hyperparameters including a maximum depth of 10, 200 estimators, minimum samples split of 2, and `max_features` set to `'sqrt'`, the Random Forest achieved a test MSE of 4.84 and an R² of 0.553. This represents a small improvement over the bagged decision tree (MSE: 4.95, R²: 0.543) and the bagged KNN (MSE: 4.87, R²: 0.550). The enhanced performance of the Random Forest is likely due to its additional layer of randomness—selecting a subset of features at each split—which reduces correlation among trees and improves generalization. Overall, while all three ensemble models performed similarly, Random Forest proved to be the most effective approach for predicting abalone age in this case, capturing slightly more variance and producing the lowest prediction error.",
   "id": "a89b1524609f3fb1"
  },
  {
   "metadata": {},
   "cell_type": "markdown",
   "source": "## Feature Importances",
   "id": "10f3d755e08bf175"
  },
  {
   "metadata": {
    "ExecuteTime": {
     "end_time": "2025-04-12T00:34:31.158298Z",
     "start_time": "2025-04-12T00:34:30.979673Z"
    }
   },
   "cell_type": "code",
   "source": [
    "# Retrieve feature names\n",
    "ohe = best_rf.named_steps['preprocessor'].named_transformers_['cat']\n",
    "encoded_feature_names = ohe.get_feature_names_out(['Sex'])\n",
    "all_feature_names = np.concatenate([encoded_feature_names, X.select_dtypes(include=np.number).columns])\n",
    "\n",
    "# Bagging Feature Importances (averaged over trees)\n",
    "bagging_model = best_bagging.named_steps['regressor']\n",
    "importances_bagging = np.mean([\n",
    "    tree.feature_importances_ for tree in bagging_model.estimators_\n",
    "], axis=0)\n",
    "\n",
    "bagging_sorted_idx = np.argsort(importances_bagging)[::-1]\n",
    "\n",
    "plt.figure(figsize=(10, 5))\n",
    "plt.bar(range(len(importances_bagging)), importances_bagging[bagging_sorted_idx], align='center')\n",
    "plt.xticks(range(len(importances_bagging)), all_feature_names[bagging_sorted_idx], rotation=45, ha='right')\n",
    "plt.title(\"Bagging Feature Importances (Averaged)\")\n",
    "plt.tight_layout()\n",
    "plt.show()\n",
    "\n",
    "# Random Forest Feature Importances\n",
    "importances_rf = best_rf.named_steps['regressor'].feature_importances_\n",
    "rf_sorted_idx = np.argsort(importances_rf)[::-1]\n",
    "\n",
    "plt.figure(figsize=(10, 5))\n",
    "plt.bar(range(len(importances_rf)), importances_rf[rf_sorted_idx], align='center')\n",
    "plt.xticks(range(len(importances_rf)), all_feature_names[rf_sorted_idx], rotation=45, ha='right')\n",
    "plt.title(\"Random Forest Feature Importances\")\n",
    "plt.tight_layout()\n",
    "plt.show()"
   ],
   "id": "299548160715d402",
   "outputs": [
    {
     "data": {
      "text/plain": [
       "<Figure size 1000x500 with 1 Axes>"
      ],
      "image/png": "[encoded data removed]"
     },
     "metadata": {},
     "output_type": "display_data"
    },
    {
     "data": {
      "text/plain": [
       "<Figure size 1000x500 with 1 Axes>"
      ],
      "image/png": "[encoded data removed]"
     },
     "metadata": {},
     "output_type": "display_data"
    }
   ],
   "execution_count": 14
  },
  {
   "metadata": {},
   "cell_type": "markdown",
   "source": "The feature importance plots reveal that the bagging model heavily relies on a single predictor, with Shell weight accounting for over half of the total importance, while other features contribute minimally. This suggests the model may be overfitting to that dominant variable. In contrast, the random forest model distributes importance more evenly across several features, including Height, Whole weight, Shucked weight, and Viscera weight, in addition to Shell weight. This more balanced reliance is a result of random forest’s use of feature subsampling (`max_features='sqrt'`), which encourages diversity in tree splits and reduces over-dependence on any one feature. This not only enhances model robustness but also likely contributes to its slightly better performance compared to the plain bagged trees.",
   "id": "80b865e9403214f4"
  }
 ],
 "metadata": {
  "kernelspec": {
   "display_name": "Python 3",
   "language": "python",
   "name": "python3"
  },
  "language_info": {
   "codemirror_mode": {
    "name": "ipython",
    "version": 2
   },
   "file_extension": ".py",
   "mimetype": "text/x-python",
   "name": "python",
   "nbconvert_exporter": "python",
   "pygments_lexer": "ipython2",
   "version": "2.7.6"
  }
 },
 "nbformat": 4,
 "nbformat_minor": 5
}
