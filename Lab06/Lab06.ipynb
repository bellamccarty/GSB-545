{
 "cells": [
  {
   "cell_type": "raw",
   "id": "a8977e7c",
   "metadata": {},
   "source": [
    "---\n",
    "title: \"Lab 6: Who Took the Picture?\"\n",
    "author: \"Isabella McCarty & Sam Ricafrente\"\n",
    "format:\n",
    "  html:\n",
    "    toc: true\n",
    "    code-fold: true\n",
    "    theme: pulse\n",
    "    code-line-numbers: true\n",
    "    code-tools: true\n",
    "    self-contained: true\n",
    "execute:\n",
    "  message: false\n",
    "  warning: false\n",
    "---"
   ]
  },
  {
   "cell_type": "markdown",
   "id": "6a6effee",
   "metadata": {},
   "source": [
    "## Lab Objective\n",
    "\n",
    "In this lab, you will explore whether you can differentiate photos taken by different people. Specifically, you’ll work with pictures taken by **Dr. Alex Dekhtyar**, **Dr. Kelly Bodwin**, or your instructor. You’ll use two machine learning approaches to determine the likely photographer for 20 unknown test images.\n",
    "\n",
    "## Dataset Information\n",
    "\n",
    "The dataset contains:\n",
    "\n",
    "* Approximately **100 images taken by Alex**\n",
    "* Approximately **100 images taken by Kelly**\n",
    "* **20 test images** taken by **Alex, Kelly, or the instructor**\n",
    "\n",
    "> **Note:** These images are not formatted like MNIST, so you’ll need to research how to import and process them in Python.\n",
    "\n",
    "## Primary Goal\n",
    "\n",
    "Your task is to identify the photographer of the 20 test images using **two distinct approaches**.\n",
    "\n",
    "## Approach 1: Feature-Based Classification\n",
    "\n",
    "1. Train individual (convolutional) neural networks for the following image features:\n",
    "\n",
    "   * Presence of a **human**\n",
    "   * Presence of a **castle**\n",
    "   * Whether the image is taken **indoors or outdoors**\n",
    "   * The **landscape type** (e.g., city, suburb, nature/rural)\n",
    "\n",
    "2. Develop at least **10 additional features** (or feature categories) that may help distinguish between Alex's and Kelly's photos. For each, train a separate (convolutional) neural network.\n",
    "\n",
    "3. Treat the outputs of all 14+ feature models as inputs to a final **classification model** that predicts the photographer (**Alex** or **Kelly**).\n",
    "\n",
    "   * This final model does **not** have to be a neural network.\n",
    "\n",
    "## Approach 2: Direct Classification\n",
    "\n",
    "Train a **convolutional neural network** to directly classify the images as being taken by **Alex** or **Kelly**.\n",
    "\n",
    "## Assignment Specifications\n",
    "\n",
    "* Work in a group of **3 students**.\n",
    "* You are **not allowed to use image metadata**.\n",
    "* Your final deliverable must:\n",
    "\n",
    "  * Identify your **best-performing model/approach**.\n",
    "  * Include your **predictions for all 20 test images**: Alex, Kelly, or Neither.\n",
    "* The training set contains only two photographers. Because your final predictions involve three classes, you **may use external data** to improve your models.\n",
    "\n",
    "  * Any external data must be **legal, ethical, and documented** clearly.\n",
    "* Your notebook should be **narrated for a non-expert audience**.\n",
    "\n",
    "* Include all code, but explain your steps in accessible, beginner-friendly language.\n"
   ]
  },
  {
   "cell_type": "code",
   "execution_count": null,
   "id": "b70ef79a",
   "metadata": {
    "vscode": {
     "languageId": "plaintext"
    }
   },
   "outputs": [],
   "source": []
  }
 ],
 "metadata": {
  "language_info": {
   "name": "python"
  }
 },
 "nbformat": 4,
 "nbformat_minor": 5
}
